{
 "cells": [
  {
   "cell_type": "markdown",
   "metadata": {},
   "source": [
    "# Loading PDF file"
   ]
  },
  {
   "cell_type": "code",
   "execution_count": 2,
   "metadata": {},
   "outputs": [],
   "source": [
    "import os\n",
    "import unstructured\n",
    "os.environ[\"GEMINI_API_KEY\"]=\"your_key\""
   ]
  },
  {
   "cell_type": "code",
   "execution_count": 28,
   "metadata": {},
   "outputs": [
    {
     "name": "stderr",
     "output_type": "stream",
     "text": [
      "<>:35: SyntaxWarning: invalid escape sequence '\\p'\n",
      "<>:35: SyntaxWarning: invalid escape sequence '\\p'\n",
      "C:\\Users\\Ellaa\\AppData\\Local\\Temp\\ipykernel_7012\\3372734759.py:35: SyntaxWarning: invalid escape sequence '\\p'\n",
      "  text = load_pdf(file_path=f\"scraping\\pdf_downloads\\child_page_1.pdf\")\n"
     ]
    }
   ],
   "source": [
    "from pypdf import PdfReader\n",
    "\n",
    "def load_pdf(file_path):\n",
    "    \"\"\"\n",
    "    Reads the text content from a PDF file and returns it as a single string.\n",
    "\n",
    "    Parameters:\n",
    "    - file_path (str): The file path to the PDF file.\n",
    "\n",
    "    Returns:\n",
    "    - str: The concatenated text content of all pages in the PDF.\n",
    "\n",
    "    Raises:\n",
    "    - FileNotFoundError: If the specified file_path does not exist.\n",
    "    - PyPDF2.utils.PdfReadError: If the PDF file is encrypted or malformed.\n",
    "\n",
    "    Example:\n",
    "    >>> pdf_text = load_pdf(\"example.pdf\")\n",
    "    >>> print(pdf_text)\n",
    "    \"This is the text content extracted from the PDF file.\"\n",
    "    \"\"\"\n",
    "    # Logic to read pdf\n",
    "    reader = PdfReader(file_path)\n",
    "\n",
    "    # Loop over each page and store it in a variable\n",
    "    text = \"\"\n",
    "    for page in reader.pages:\n",
    "        text += page.extract_text()\n",
    "\n",
    "    return text\n",
    "\n",
    "#for i in range(20):\n",
    " #   \n",
    " #   text.append(load_pdf(file_path=f\"scraping\\pdf_downloads\\child_page_{i+1}.pdf\"))\n",
    "text = load_pdf(file_path=f\"scraping\\pdf_downloads\\child_page_1.pdf\")"
   ]
  },
  {
   "cell_type": "code",
   "execution_count": 29,
   "metadata": {},
   "outputs": [
    {
     "data": {
      "text/plain": [
       "'Celiaki\\n\\x01\\x02\\x03\\x04\\x05\\x06\\x04\\x07\\x08\\x07\\t\\x03\\n\\x0b\\x02\\x0c\\x04\\x0c\\x0b\\r\\x03\\x02\\x0e\\x05\\x0c\\x0f\\nCeliaki\\tinnebär\\tatt\\tdu\\tinte\\ttål\\tproteinet\\tgluten\\tsom\\tfinns\\ti\\tvete,\\tråg\\toch\\tkorn.\\tDin\\ttunntarm\\tblir\\tinflammerad\\noch\\tkan\\tinte\\tta\\tupp\\tnäring\\tsom\\tden\\tska.\\tDe\\tvanligaste\\tsymtomen\\tär\\tmagbesvär,\\ttrötthet\\toch\\tatt\\tgå\\tner\\ti\\nvikt.\\tBehandlingen\\tgår\\tut\\tpå\\tatt\\tsluta\\täta\\tgluten.\\tDet\\tgör\\tatt\\ttarmen\\tläker\\toch\\tsymtomen\\tgår\\töver\\tinom\\nnågra\\tmånader.\\nCeliaki\\tkallas\\tockså\\tför\\tglutenintolerans.\\tDet\\tgår\\tatt\\tfå\\tceliaki\\tsom\\tbarn\\teller\\tsom\\tvuxen.\\tDen\\thär\\ttexten\\thandlar\\tom\\nceliaki\\thos\\tvuxna.\\tHär\\tkan\\tdu\\tläsa\\tmer\\tom\\t\\nceliaki\\thos\\tbarn.\\n\\x10\\x11\\x12\\x0b\\r\\x12\\nDu\\tkan\\tfå\\tett\\teller\\tflera\\tav\\tföljande\\tsymtom\\tom\\tdu\\thar\\tobehandlad\\tceliaki:\\nVilka\\tsymtom\\tman\\tfår\\toch\\thur\\tkraftiga\\tde\\tär\\tkan\\tskilja\\tsig\\tfrån\\tperson\\ttill\\tperson.\\tSymtomen\\tkan\\tockså\\tändras\\tmed\\nåldern.\\t\\t\\n\\x13\\x04\\x05\\x0e\\x0e\\x14\\x07\\r\\x15\\x16\\x07\\x17\\x02\\x0f\\x18\\x19\\x0e\\x07\\x1a\\x0e\\x1b\\x0c\\x07\\x12\\x05\\t\\x02\\x0c\\x07\\r\\x15\\x16\\x07\\x0b\\x05\\x0e\\x12\\x05\\x0e\\x0c\\x05\\nDet\\tär\\tvanligt\\tatt\\tha\\tbesvär\\tfrån\\tmagen\\toch\\ttarmarna\\tvid\\tobehandlad\\tceliaki.\\tDet\\tkan\\ttill\\texempel\\tvara\\tdiarré\\tsom\\tinte\\ngår\\töver,\\t\\ngaser\\ti\\tmagen\\n\\toch\\tibland\\t\\nförstoppning\\n.\\t\\nAtt\\tha\\tbesvär\\tfrån\\tmagen\\toch\\ttarmarna\\tbehöver\\tinte\\tbero\\tpå\\tceliaki.\\tIbland\\tkan\\tdet\\tvara\\tsymtom\\tpå\\tså\\tkallad\\t\\nkänslig\\ntarm,\\n\\tsom\\tockså\\tkallas\\tIBS.\\nBlod\\ti\\tavföringen\\n\\tär\\tinte\\tett\\ttecken\\tpå\\tceliaki.\\tHar\\tdu\\tblod\\ti\\tavföringen\\tska\\tdu\\tsöka\\tvård\\toch\\tbli\\tundersökt\\teftersom\\tdet\\nkan\\tvara\\tsymtom\\tpå\\tnågon\\tannan\\ttarmsjukdom.\\n\\x1c\\x0e\\x1d\\x0b\\x0b\\x16\\x02\\x0b\\x07\\r\\x15\\x16\\x07\\x0c\\x02\\x1e\\x0f\\x0b\\x19\\x12\\x1e\\x16\\x02\\x0b\\nDu\\tkan\\tkänna\\tdig\\ttrött\\toch\\tkraftlös\\ti\\tkroppen,\\ttill\\texempel\\tnär\\tdu\\tanstränger\\tdig\\teller\\ttränar.\\tDu\\tkan\\tockså\\tkänna\\ten\\nallmän\\tuppgivenhet\\tsom\\tkan\\tpåminna\\tom\\t\\ndepression\\n.\\t\\nOrsaken\\tär\\tför\\tdet\\tmesta\\tblodbrist\\toch\\tvitaminbrist.\\tDu\\tkan\\ttill\\texempel\\tha\\t\\nblodbrist\\tpå\\tgrund\\tav\\tjärnbrist\\n\\teller\\t\\nblodbrist\\npå\\tgrund\\tav\\tbrist\\tpå\\tvitaminerna\\tB12\\n\\toch\\tfolsyra.\\ndiarré,\\tont\\ti\\tmagen\\toch\\tandra\\tmagbesvär\\ntrötthet\\toch\\tnedstämdhet\\nviktnedgång\\nledvärk\\nutslag\\ti\\tmunnen,\\tså\\tkallad\\tafte\\nkräkningar\\toch\\tillamående\\nblåsor\\tpå\\thuden\\nsvårt\\tatt\\tfå\\ttill\\ten\\tgraviditet.\\n\\x1f\\r\\t\\t\\x05\\x07\\x04\\x0c\\n \\x04\\x0b\\x0b\\x05\\x07\\x18\\x1b\\x0e\\x1e\\n!\\x02\\x0c\\x11\\n\"\\x19\\x03#\\n\\x07\\n\\x0e\\x02\\t\\x04\\r\\x0cTröttheten\\tkan\\tockså\\tbero\\tpå\\tinflammationen\\tsom\\tuppstår\\ti\\ttarmen.\\n\"$\\x06\\x0b\\x0c\\x02\\x1e\\t\\x1b\\x0c\\t\\nDu\\tkan\\tgå\\tner\\ti\\tvikt,\\tmen\\tdet\\tär\\tovanligt\\tatt\\tgå\\tner\\tmycket\\ti\\tvikt\\toch\\tbli\\tmager.\\tDu\\tkan\\tockså\\tkräkas\\tibland.\\tAtt\\tgå\\tner\\ti\\nvikt\\tberor\\tpå\\tden\\ttarmskada\\tsom\\torsakas\\tav\\tgluten,\\tmen\\tkan\\täven\\tbero\\tpå\\tatt\\tdu\\tkanske\\tmår\\tilla\\toch\\tinte\\thar\\tnågon\\naptit.\\n\\x1f\\x02\\x1e\\x18\\x19\\x0e\\x06\\nVid\\tceliaki\\tkan\\tdu\\tockså\\tfå\\t\\nont\\ti\\tskelettet,\\tfrämst\\tdå\\ti\\tlederna\\n.\\nCeliaki\\tkan\\tdessutom\\tibland\\tgöra\\tatt\\tdu\\tfår\\t\\nbenskörhet\\n,\\tdet\\tvill\\tsäga\\tatt\\tskelettet\\tblir\\tskörare.\\tBenskörhet\\tbrukar\\tinte\\tge\\nnågra\\tsymtom.\\tRisken\\tatt\\tdu\\tbryter\\tett\\tben\\tpå\\tgrund\\tav\\tbenskörheten\\tär\\tliten.\\nSkelettet\\tstärks\\tigen\\tnär\\tdu\\tbörjar\\täta\\tglutenfri\\tmat.\\t\\n%\\x0b\\x0f\\x03\\x05\\t\\x07\\x04\\x07\\x12\\n\\x0c\\x0c\\x02\\x0c\\nDu\\tkan\\tha\\thaft\\tperioder\\tmed\\t\\nutslag\\ti\\tmunnen\\n\\toch\\tatt\\tdet\\tsvider\\tpå\\ttungan.\\tAtt\\tdet\\tsvider\\tpå\\ttungan\\tkan\\tbero\\tpå\\tbrist\\npå\\tvitamin\\tB12.\\nUtslag\\toch\\tsår\\ti\\tmunnen\\tkallas\\tockså\\tför\\tafte\\teller\\taftösa\\tsår.\\n&\\x03\\x1b\\x0f\\r\\x0e\\x07\\'\\x1b\\x07\\x16\\n\\x1e\\x02\\x0c\\nDet\\tfinns\\ten\\thudsjukdom\\tsom\\tkallas\\thudceliaki.\\tVid\\thudceliaki\\tfår\\tdu\\thudblåsor\\tsom\\tkliar\\tpå\\tarmbågarna,\\nunderarmarna\\toch\\tpå\\tskinkorna.\\tDu\\tbehöver\\tinte\\tha\\ttydliga\\tbesvär\\tfrån\\tmagen\\toch\\ttarmarna\\tom\\tdu\\thar\\thudceliaki.\\nÄven\\thär\\tär\\tbehandlingen\\tglutenfri\\tkost.\\tDet\\tfinns\\ten\\trekommendation\\tatt\\tavstå\\tfrån\\tjod,\\teftersom\\tdet\\thar\\tvisat\\tsig\\tatt\\nbesvären\\tdå\\tkan\\tminska\\tför\\ten\\tdel.\\tMen\\tfortfarande\\tsaknas\\tvetenskaplig\\tgrund\\tför\\tatt\\tjod\\tförsämrar\\tbesvären.\\t\\t\\nHudceliaki\\tbrukar\\tförkortas\\ttill\\tDH,\\tefter\\tdet\\tlatinska\\tnamnet\\tdermatitis\\therpetiformis.\\n\\x10\\x18\\x1b\\x0e\\x0b\\x07\\x05\\x0b\\x0b\\x07\\x1a\\x1b\\x07\\x0b\\x04\\x03\\x03\\x07\\x02\\x0c\\x07\\t\\x0e\\x05\\x18\\x04\\x1e\\x04\\x0b\\x02\\x0b\\nVid\\tobehandlad\\tglutenintolerans\\tkan\\tdu\\tha\\tsvårt\\tatt\\tfå\\ttill\\ten\\tgraviditet,\\tså\\tkallad\\t\\ninfertilitet\\n.\\tNär\\tdu\\tbörjar\\täta\\tglutenfri\\nmat\\tpåverkar\\tceliakin\\tinte\\tlängre\\tdin\\tförmåga\\tatt\\tbli\\tgravid.\\n(\\x19\\x0e\\x07\\r\\x15\\x16\\x07\\x18\\x05\\x0e\\x07\\x0f\\x06\\x05\\x07#\\x05\\t\\x07\\x0f\\x1d\\x06\\x05\\x07\\x18\\x1b\\x0e\\x1e)\\nKontakta\\ten\\t\\nvårdcentral\\n\\tom\\tdu\\ttror\\tatt\\tdu\\thar\\tceliaki.\\tMånga\\tmottagningar\\tkan\\tdu\\tkontakta\\tgenom\\tatt\\t\\nlogga\\tin\\n.\\nRing\\ttelefonnummer\\t1177\\tom\\tdu\\tvill\\tha\\t\\nsjukvårdsrådgivning.\\n\\tDå\\tfår\\tdu\\thjälp\\tmed\\tatt\\tbedöma\\tdina\\tsymtom\\teller\\thjälp\\nmed\\tvar\\tdu\\tkan\\tsöka\\tvård.\\n\"\\x05\\x1e\\x07\\x16\\x19\\x0c\\x1e\\x02\\x0e\\x07\\x04\\x07\\x06\\x0e\\r\\'\\'\\x02\\x0c)\\nVid\\tobehandlad\\tceliaki\\tskadas\\ttarmluddet\\ti\\ttarmen.\\nCeliaki\\tinnebär\\tatt\\tditt\\timmunförsvar\\treagerar\\tmot\\tproteinet\\tgluten\\tsom\\tfinns\\ti\\tvete,\\tråg\\toch\\tkorn.\\n$\\x12\\x12\\n\\x0c\\x1a\\x1d\\x0e\\x0f\\x18\\x05\\x0e\\x02\\x0b\\x07\\x0e\\x02\\x05\\t\\x02\\x0e\\x05\\x0e\\nNär\\tdu\\täter\\tgluten\\treagerar\\tkroppens\\t\\nimmunförsvar\\n\\tmot\\tdet\\tgluten\\tsom\\tkommer\\ttill\\t\\ntunntarmen\\n.\\nReaktionen\\tgör\\tatt\\tslemhinnan\\ti\\ttunntarmen\\tblir\\tinflammerad\\toch\\tatt\\ttarmluddet\\tså\\tsmåningom\\tförsvinner.\\tTarmluddet\\nfinns\\tpå\\tinsidan\\tav\\ttarmen\\toch\\ttar\\tupp\\tnäring\\tfrån\\tmaten.\\tNär\\ttarmluddet\\tförsvinner\\tblir\\tdet\\tallt\\tsvårare\\tför\\tkroppen\\tatt\\nta\\tupp\\toch\\tbehålla\\tnäringsämnen\\tsom\\tfinns\\ti\\tmaten.\\tJu\\tstörre\\tmängder\\tgluten\\tsom\\tdu\\tfår\\ti\\tdig,\\tdesto\\tmer\\tskadas\\ntarmen.\\tDu\\tkan\\tockså\\tfå\\t\\nlaktosintolerans\\n.\\tLaktosintoleransen\\tberor\\tpå\\tatt\\ttarmen\\ttar\\tupp\\tlaktos\\tsämre\\tnär\\ttarmluddet\\tförstörs.\\nDu\\tkan\\tdå\\tfå\\tdiarré\\toch\\tgaser\\ti\\tmagen\\tnär\\tdu\\tdricker\\tmjölk.\\tKänsligheten\\tför\\tlaktos\\tförsvinner\\tnär\\tdu\\täter\\tglutenfri\\tmat.\\n\\x01\\x02\\x03\\x04\\x05\\x06\\x04\\x07\\t\\x1b\\x0e\\x07\\x04\\x0c\\x0b\\x02\\x07\\x1d\\x18\\x02\\x0e\\nÄven\\tom\\ttunntarmen\\tskadats\\tav\\tgluten\\tbehöver\\tdu\\tinte\\tfå\\tnågra\\tuppenbara\\tbesvär\\tav\\tdet.\\tIbland\\tkan\\tdet\\tverka\\tsom\\natt\\tceliakin\\thar\\tgått\\töver.\\tMen\\tså\\tär\\tdet\\tinte,\\tutan\\tceliaki\\tär\\tnågot\\tman\\thar\\thela\\tlivet.\\n\\x01\\x02\\x03\\x04\\x05\\x06\\x04\\x07\\x06\\x05\\x0c\\x07\\x1a\\x1d\\x0e\\x02\\x06\\r\\x12\\x12\\x05\\x07\\x18\\x04\\x1e\\x07\\x05\\x0c\\x1e\\x0e\\x05\\x07\\x0f#\\n\\x06\\x1e\\r\\x12\\x05\\x0e\\x07\\r\\x15\\x16\\x07\\x0b\\x04\\x03\\x03\\x0f\\x0b\\x1b\\x0c\\x1e\\nDet\\tär\\tstörre\\trisk\\tatt\\tdu\\thar\\tceliaki\\tom\\tdu\\tsamtidigt\\thar\\ten\\tannan\\tsjukdom\\tdär\\timmunförsvaret\\treagerar\\tmot\\tden\\tegna\\nvävnaden,\\ten\\tså\\tkallad\\t\\nautoimmun\\tsjukdom\\n.\\tExempel\\tpå\\tsådana\\tsjukdomar\\tär\\tföljande:\\nDet\\tär\\tockså\\tvanligare\\tatt\\tha\\tceliaki\\tvid\\t\\nDowns\\tsyndrom\\n\\toch\\tTurners\\tsyndrom.\\n\\x01\\x02\\x03\\x04\\x05\\x06\\x04\\x07\\x19\\x0e\\x07\\x04\\x0c\\x0b\\x02\\x07\\x0f\\'\\x05\\x0c\\x0c\\x12\\x1b\\x03\\x0f\\x05\\x03\\x03\\x02\\x0e\\t\\x04\\nCeliaki\\tär\\tinte\\ten\\tallergi\\toch\\tska\\tinte\\tblandas\\tihop\\tmed\\tspannmålsallergi.\\tSpannmålsallergi\\tförekommer\\thos\\tbarn\\toch\\nförsvinner\\toftast\\tnär\\tbarnet\\tblir\\täldre.\\tDärför\\tär\\tspannmålsallergi\\tovanligt\\thos\\tvuxna.\\nSpannmålsallergi\\tinnebär\\tatt\\ten\\tperson\\tär\\tallergisk\\tmot\\tett\\teller\\tflera\\tsädesslag,\\tdet\\tvill\\tsäga\\tvete,\\tkorn,\\thavre,\\tråg\\toch\\nrågvete,\\tmajs,\\tris\\teller\\thirs.\\tHen\\treagerar\\tofta\\tdirekt\\tvid\\tkontakt\\tmed\\tdet\\tallergiframkallande\\tämnet.\\tExempel\\tpå\\nreaktion\\tär\\tatt\\tpersonen\\tkan\\tfå\\tsvullna\\tläppar,\\tbli\\ttäppt\\ti\\tnästan\\toch\\tfå\\ten\\tsvullnad\\ti\\thalsen\\tom\\then\\thar\\tfått\\tämnet\\ti\\nmunnen.\\n\\x13\\n\\x07\\x06\\x05\\x0c\\x07\\x16\\x05\\x07\\x0f\\x11\\x12\\x0b\\r\\x12\\x07\\n\\x0b\\x05\\x0c\\x07\\x05\\x0b\\x0b\\x07\\x16\\x05\\x07\\x0f\\x06\\x05\\x1e\\x05\\x1e\\x07\\x0b\\x05\\x0e\\x12\\nMånga\\tupplever\\tatt\\tde\\tblir\\tdåliga\\tav\\tatt\\täta\\tgluten\\ttrots\\tatt\\tde\\tinte\\thar\\tnågon\\tskada\\tpå\\ttunntarmens\\tslemhinna\\tsom\\tvid\\nceliaki.\\tDet\\tberor\\tsannolikt\\tpå\\ten\\treaktion\\tmot\\tett\\tannat\\tämne\\ti\\tspannmål\\tän\\tjust\\tgluten.\\tForskning\\tpågår\\tför\\tatt\\tta\\treda\\npå\\texakt\\tvilket\\tämne\\tdet\\tär.\\nBehandlingen\\tär\\tdensamma\\tsom\\tvid\\tceliaki,\\tdet\\tvill\\tsäga\\tatt\\täta\\tglutenfri\\tmat.\\t\\n%\\x0c\\x1e\\x02\\x0e\\x0f\\x1d\\x06\\x0c\\x04\\x0c\\t\\x05\\x0e\\x07\\r\\x15\\x16\\x07\\n\\x0b\\x0e\\x02\\x1e\\x0c\\x04\\x0c\\t\\x05\\x0e\\nDu\\tbehöver\\tfortsätta\\tatt\\täta\\tmat\\tmed\\tgluten\\tända\\tfram\\ttill\\tprovtagningen.\\tDet\\tsyns\\tannars\\tinte\\ti\\tprovsvaren\\tom\\tdu\\thar\\nceliaki.\\tDet\\tgör\\tatt\\tdet\\ttar\\tlängre\\ttid\\tatt\\tfå\\trätt\\tdiagnos\\toch\\tbehandling.\\nDet\\thär\\tgäller\\tbåde\\tinför\\tblodprov\\toch\\tom\\tdu\\tbehöver\\tlämna\\tvävnadsprov\\tfrån\\ttarmen,\\tså\\tkallad\\ttunntarmsbiopsi.\\n\\x13\\n\\x07\\x1a\\x1b\\x0e\\x07\\x03\\x19\\x12\\x0c\\x05\\x07\\x17\\x03\\r\\x1e\\'\\x0e\\r\\x18\\x02\\x0e\\nPå\\tvårdcentralen\\tfår\\tdu\\t\\nlämna\\tblodprov\\n.\\tVid\\tceliaki\\tbildas\\tvanligen\\ten\\tviss\\ttyp\\tav\\tantikroppar\\ti\\tblodet.\\tVisar\\tblodprovet\\natt\\tdu\\thar\\tdessa\\tantikroppar\\tär\\tdet\\ttroligt\\tatt\\tdu\\thar\\tceliaki.\\n\"\\x19\\x18\\x0c\\x05\\x1e\\x0f\\'\\x0e\\r\\x18\\x02\\x0e\\x07\\x0b\\x05\\x0f\\x07\\x1a\\x0e\\x1b\\x0c\\x07\\x0b\\n\\x0c\\x0c\\x0b\\x05\\x0e\\x12\\x02\\x0c\\x07\\x08\\x07\\x0b\\n\\x0c\\x0c\\x0b\\x05\\x0e\\x12\\x0f\\x17\\x04\\r\\'\\x0f\\x04\\nLäkaren\\tkan\\tbehöva\\tett\\tvävnadsprov\\tfrån\\ttunntarmen\\tför\\tatt\\tsäkert\\tkunna\\tställa\\tdiagnosen\\tceliaki.\\tVävnadsprovet\\ttas\\nvid\\ten\\tundersökning\\tsom\\tkallas\\t\\ngastroskopi\\n.\\nProverna\\tundersöks\\tsedan\\ti\\tmikroskop\\tför\\tatt\\tse\\tom\\ttarmluddet\\tär\\tskadat.\\tSkadat\\ttarmludd\\tär\\tdet\\tsäkraste\\ttecknet\\tpå\\nceliaki.\\n*\\x1a\\x0b\\x02\\x0e\\x07\\n\\x0c\\x1e\\x02\\x0e\\x0f\\x1d\\x06\\x0c\\x04\\x0c\\t\\x05\\x0e\\x0c\\x05\\ndiabetes\\ttyp\\t1\\nsköldkörtelsjukdomar,\\tbåde\\t\\nhypertyreos\\n\\toch\\t\\nhypotyreos\\nautoimmuna\\tleversjukdomar\\nreumatiska\\tsjukdomar.Det\\ttar\\tungefär\\ten\\tvecka\\tatt\\tfå\\tsvar\\tpå\\tblodproverna.\\tProvsvaren\\tfrån\\ten\\ttunntarmsbiopsi\\tbrukar\\tta\\tungefär\\ten\\tmånad.\\n&\\x02\\x16\\x05\\x0c\\x1e\\x03\\x04\\x0c\\t\\nLivsmedelsprodukter\\tsom\\thar\\tsymbolen\\tDet\\töverkorsade\\taxet\\tär\\tglutenfria\\toch\\tgodkända\\tav\\tSvenska\\nCeliakiförbundet.\\nNär\\tdu\\thar\\tfått\\tdiagnosen\\tceliaki\\tbestår\\tbehandlingen\\tav\\tatt\\tenbart\\täta\\tmat\\tsom\\tär\\thelt\\tfri\\tfrån\\tgluten.\\tCeliaki\\tgår\\tinte\\növer,\\tutan\\tdu\\tbehöver\\täta\\tglutenfri\\tmat\\tresten\\tav\\tlivet.\\nNär\\tdu\\tbörjar\\täta\\tglutenfri\\tmat\\tläker\\ttarmen.\\tDet\\ttar\\tvanligtvis\\tnågra\\tmånader.\\tOfta\\tminskar\\tsymtomen\\tredan\\tinnan\\ntarmen\\thar\\tläkt.\\nDu\\tkan\\tläsa\\tmer\\tom\\tvad\\tdu\\tkan\\täta\\toch\\tinte\\täta\\ti\\tartikeln\\t\\nMat\\toch\\tmatlagning\\tvid\\tceliaki\\n.\\n*\\x0c\\x07\\x1e\\x04\\x02\\x0b\\x04\\x0f\\x0b\\x07\\x17\\x02\\x0e\\x19\\x0b\\x0b\\x05\\x0e\\x07\\x18\\x05\\x1e\\x07\\x1e\\n\\x07\\x06\\x05\\x0c\\x07\\x19\\x0b\\x05\\nDu\\tfår\\toftast\\tträffa\\ten\\tdietist\\tnär\\tdu\\thar\\tfått\\tdiagnosen.\\tEn\\tdietist\\tär\\ten\\tperson\\tsom\\tär\\tspecialiserad\\tpå\\tkost.\\tDietisten\\ngår\\tigenom\\tvilken\\tmat\\tdu\\tkan\\täta\\toch\\tvad\\tdu\\tska\\tundvika.\\nDet\\tär\\tviktigt\\tatt\\tdu\\tfår\\tbra\\tinformation\\ttidigt\\ti\\tbehandlingen.\\tJu\\tmer\\tdu\\tvet\\tom\\tceliaki\\toch\\tvad\\tdu\\tfår\\täta,\\tdesto\\tlättare\\nblir\\tdet\\tatt\\tundvika\\tgluten\\toch\\tlaga\\tgod\\tglutenfri\\tmat.\\nDietisten\\tger\\tdig\\tockså\\tråd\\tpå\\thur\\tdu\\tkan\\tfå\\ti\\tdig\\tfibrer,\\tmineraler\\toch\\tvitaminer.\\tDet\\tkan\\tannars\\tvara\\tsvårt\\tatt\\tfå\\ti\\tsig\\ntillräckligt\\tav\\tdessa\\tnäringsämnen.\\n+\\x18\\x02\\x0c\\x07\\x0f\\x12\\x1b\\x07\\x12\\x19\\x0c\\t\\x1e\\x02\\x0e\\x07\\t\\x03\\n\\x0b\\x02\\x0c\\x07\\x0f\\x06\\x05\\x1e\\x05\\x0e\\nTarmens\\tslemhinna\\tskadas\\täven\\tav\\tsmå\\tmängder\\tgluten\\tom\\tdu\\täter\\tdet\\tregelbundet.\\tDet\\tär\\tdärför\\tviktigt\\tatt\\tall\\tmat\\nsom\\tdu\\täter\\tär\\thelt\\tfri\\tfrån\\tgluten.\\nDet\\tär\\tinte\\tskadligt\\tatt\\tråka\\tfå\\ti\\tsig\\tgluten\\tvid\\tnågot\\tenstaka\\ttillfälle.\\tDet\\tär\\tinte\\tens\\tsäkert\\tatt\\tdu\\tfår\\tnågra\\tsymtom\\tdå.\\nOm\\tsymtom\\tskulle\\tuppstå\\tgår\\tdessa\\toftast\\töver\\tav\\tsig\\tsjälv\\tinom\\tnågra\\tdagar.\\tMen\\tom\\tdu\\tfår\\ti\\tdig\\tgluten\\tregelbundet\\nkommer\\tdina\\tgamla\\tsymtom\\tså\\tsmåningom\\ttillbaka.\\tDu\\tkan\\tdessutom\\tfå\\tnya\\tsymtom\\toch\\trisken\\tför\\tbenskörhet\\tökar.\\nDet\\tkan\\täven\\tbli\\tsvårt\\tatt\\tfå\\ttill\\ten\\tgraviditet.\\n,\\x0b\\x02\\x0e\\x17\\x02\\x0f\\x1d\\x06\\nNär\\tdu\\thar\\tfått\\tdiagnosen\\tkommer\\tdu\\tatt\\tföljas\\tupp\\tvid\\tett\\tåterbesök.\\tDå\\tpratar\\tdu\\toch\\tläkaren\\tom\\thur\\tdu\\tmår\\toch\\thur\\ndet\\tgår\\tatt\\täta\\tglutenfri\\tkost.\\tLäkaren\\tkommer\\tockså\\tatt\\tundersöka\\tdig\\toch\\tdu\\tfår\\tlämna\\tblodprov.\\nDu\\tkan\\tockså\\tträffa\\tdietisten\\tvid\\tåterbesöket\\tom\\tdu\\tbehöver\\tdet.\\t\\t\\nOftast\\tsker\\tåterbesöken\\tpå\\tvårdcentralen.\\tMen\\tdu\\tkan\\täven\\tha\\tåterbesök\\tpå\\tett\\tsjukhus\\tsex\\ttill\\ttolv\\tmånader\\tefter\\tatt\\ndu\\thar\\tfått\\tdin\\tdiagnos.\\n\"\\x05\\x1e\\x07\\x17\\x02\\x0e\\r\\x0e\\x07\\x15\\x02\\x03\\x04\\x05\\x06\\x04\\x07\\'\\x1b)\\nDet\\tär\\tinte\\thelt\\tklarlagt\\tvarför\\ten\\tdel\\tfår\\tceliaki,\\tmen\\tforskarna\\ttror\\tatt\\tärftlighet\\tär\\ten\\tviktig\\torsak.\\nDet\\tär\\tockså\\toklart\\tvad\\tdet\\tär\\tsom\\tgör\\tatt\\timmunförsvaret\\tangriper\\tdet\\tgluten\\tsom\\tkommer\\ttill\\ttunntarmen.\\nFörutom\\tgluten\\triktas\\täven\\timmunreaktionen\\tmot\\tdet\\tkroppsegna\\tämnet\\ttransglutaminas,\\tsom\\tbryter\\tner\\tgluten.\\nEftersom\\timmunreaktionen\\triktas\\tmot\\tkroppens\\tegna\\tsystem\\tingår\\tceliaki\\ti\\tgruppen\\tautoimmuna\\tsjukdomar.\\n-\\x0b\\x0b\\x07\\x03\\x02\\x18\\x05\\x07\\x12\\x02\\x1e\\x07\\x15\\x02\\x03\\x04\\x05\\x06\\x04\\nMånga\\tsom\\thar\\tfått\\tdiagnosen\\tceliaki\\ttycker\\tatt\\tdet\\tär\\tskönt\\tatt\\tfå\\treda\\tpå\\tvad\\tbesvären\\tberor\\tpå\\toch\\tatt\\tdet\\tfinns\\nbehandling.\\tSamtidigt\\tkan\\tdet\\tvara\\tjobbigt\\tatt\\tinse\\tatt\\tman\\tbehöver\\täta\\tglutenfri\\tmat\\tresten\\tav\\tlivet.Senast\\tuppdaterad\\n:\\n2024-05-15\\nRedaktör\\n:\\nPeter\\n\\t\\nTuominen,\\n\\t\\n1177.se,\\tnationella\\tredaktionen\\nGranskare\\n:\\nKlas\\n\\t\\nSjöberg,\\n\\t\\nläkare,\\tspecialist\\tpå\\tinternmedicin\\toch\\tpå\\tsjukdomar\\ti\\tmagen\\toch\\ttarmarna,\\n\\t\\nSkånes\\tuniversitetssjukhus,\\nMalmö\\nIllustratör\\n:\\nKari\\n\\t\\nToverud,\\n\\t\\ncertifierad\\tmedicinsk\\tillustratör\\n&\\x02\\x0e\\x19\\x0b\\x0b\\x05\\x07\\x1a\\x1d\\x0e\\x07\\x0c\\x19\\x0e\\x0f\\x0b\\x1b\\x02\\x0c\\x1e\\x02\\x07\\r\\x15\\x16\\x07\\x18\\x19\\x0c\\x0c\\x02\\x0e\\nBerätta\\tför\\tnärstående\\toch\\tvänner\\tatt\\tdu\\thar\\tceliaki\\toch\\ttala\\täven\\tom\\tvad\\tdu\\tkan\\täta\\toch\\tvad\\tdu\\tska\\tundvika.\\n\\x10\\x06\\x05\\x1a\\x1a\\x05\\x07\\x06\\n\\x0c\\x0f\\x06\\x05\\'\\x07\\r\\x12\\x07\\x12\\x05\\x0b\\x07\\r\\x15\\x16\\x07\\x12\\x05\\x0b\\x03\\x05\\t\\x0c\\x04\\x0c\\t\\x07\\n\\x0b\\x05\\x0c\\x07\\t\\x03\\n\\x0b\\x02\\x0c\\nAtt\\tbörja\\t\\nlaga\\toch\\täta\\tmat\\tutan\\tgluten\\n\\tkan\\tinnebära\\ten\\tomställning.\\tMen\\tefter\\ten\\ttid\\tblir\\tdet\\ten\\tnaturlig\\tdel\\tav\\nvardagen.\\tDet\\tfinns\\tmånga\\tglutenfria\\tprodukter\\tatt\\tköpa\\toch\\tofta\\tkan\\tkaféer\\toch\\trestauranger\\tordna\\tglutenfri\\tmat.\\tPå\\nbufféer\\tbrukar\\tdet\\tofta\\tvara\\tutskrivet\\tvilken\\tmat\\tsom\\tär\\tglutenfri.\\nDu\\tkan\\thitta\\trecept\\tpå\\tglutenfri\\tmat\\ti\\tsärskilda\\tkokböcker,\\tpå\\twebbplatser\\toch\\tpå\\tbloggar.\\tDär\\tkan\\tdu\\tockså\\tfå\\ninspiration\\ttill\\tatt\\tlaga\\tglutenfri\\tmat.\\n.\\r\\x0c\\x0b\\x05\\x06\\x0b\\x07\\x12\\x02\\x1e\\x07\\x05\\x0c\\x1e\\x0e\\x05\\x07\\x0f\\r\\x12\\x07\\x16\\x05\\x0e\\x07\\x15\\x02\\x03\\x04\\x05\\x06\\x04\\nKontakta\\t\\nSvenska\\tCeliakiförbundet\\n\\tom\\tdu\\tvill\\tha\\tmer\\tinformation\\tom\\tceliaki\\teller\\tkomma\\ti\\tkontakt\\tmed\\tvuxna\\tsom\\thar\\nceliaki.\\tSvenska\\tCeliakiförbundet\\thar\\tockså\\t\\nmindre\\tföreningar\\tpå\\tmånga\\tplatser\\ti\\tSverige\\n.\\n/\\x1b\\x18\\x02\\x0e\\x06\\x05\\x07\\r\\x15\\x16\\x07\\x1e\\x02\\x03\\x0b\\x05\\x07\\x04\\x07\\x1e\\x04\\x0c\\x07\\x18\\x1b\\x0e\\x1e\\nDu\\tkan\\t\\nsöka\\tvård\\tpå\\tvilken\\tvårdcentral\\teller\\töppen\\tspecialistmottagning\\tdu\\tvill\\n\\ti\\thela\\tlandet.\\tIbland\\tkrävs\\tdet\\t\\nremiss\\n\\ttill\\nden\\töppna\\tspecialiserade\\tvården.\\n\\x13\\n\\x07\\x0f\\x06\\x05\\x07\\x1a\\x1d\\x0e\\x0f\\x0b\\x1b\\x07\\x04\\x0c\\x1a\\r\\x0e\\x12\\x05\\x0b\\x04\\r\\x0c\\x02\\x0c\\nFör\\tatt\\tkunna\\tvara\\tdelaktig\\ti\\tvården\\toch\\tbehandlingen\\tär\\tdet\\tviktigt\\tatt\\tdu\\t\\nförstår\\tinformationen\\tdu\\tfår\\n\\tav\\nvårdpersonalen.\\tFråga\\tvårdpersonalen\\tom\\tdu\\tinte\\tförstår.\\nDu\\thar\\tmöjlighet\\tatt\\tfå\\thjälp\\tav\\ten\\t\\ntolk\\tom\\tdu\\tinte\\tpratar\\tsvenska\\n.\\tDu\\thar\\tockså\\tmöjlighet\\tatt\\tfå\\thjälp\\tav\\ten\\t\\ntolk\\tom\\tdu\\nhar\\ten\\thörselnedsättning\\n.\\n0011\\x07\\'\\x1b\\x07\\x1a\\x03\\x02\\x0e\\x05\\x07\\x0f\\'\\x0e\\x1b\\x06\\nPå\\t1177.se\\tfår\\tdu\\tråd\\tom\\thälsa\\toch\\tinformation\\tom\\tsjukdomar\\toch\\tvilka\\tmottagningar\\tdu\\tkan\\tkontakta.\\tLogga\\tin\\tför\\tatt\\nläsa\\tdin\\tjournal\\toch\\tgöra\\tdina\\tvårdärenden.\\tRing\\ttelefonnummer\\t1177\\tför\\tsjukvårdsrådgivning\\tdygnet\\trunt.\\n1177\\tger\\tdig\\tråd\\tnär\\tdu\\tvill\\tmå\\tbättre.\\n0011\\n\\x08\\x07\\n\\x0b\\x0e\\x11\\t\\t\\x0b\\x07\\r\\x12\\x07\\x1e\\x04\\x0c\\x07\\x16\\x19\\x03\\x0f\\x05\\x07\\r\\x15\\x16\\x07\\x18\\x1b\\x0e\\x1e2\\x12\\x070011\\n.\\r\\x0c\\x0b\\x05\\x06\\x0b\\nInställningar\\tför\\tkakor\\n1177\\t–\\ten\\ttjänst\\tfrån\\t\\nInera.\\nBehandling\\tav\\tpersonuppgifter\\nHantering\\tav\\tkakor'"
      ]
     },
     "execution_count": 29,
     "metadata": {},
     "output_type": "execute_result"
    }
   ],
   "source": [
    "text"
   ]
  },
  {
   "cell_type": "markdown",
   "metadata": {},
   "source": [
    "# Splitting the text"
   ]
  },
  {
   "cell_type": "code",
   "execution_count": 32,
   "metadata": {},
   "outputs": [],
   "source": [
    "import re\n",
    "\n",
    "def clean_text(text):\n",
    "    # Replace all \\n and \\t characters with a space\n",
    "    clean_text = re.sub(r'[\\n\\t]', ' ', text)\n",
    "    # Optionally remove extra spaces\n",
    "    clean_text = re.sub(r'\\s+', ' ', clean_text).strip()\n",
    "    clean_text = re.sub(r'[\\x00-\\x1F\\x7F-\\x9F]', '', clean_text)  # Remove control characters\n",
    "    return clean_text"
   ]
  },
  {
   "cell_type": "code",
   "execution_count": 33,
   "metadata": {},
   "outputs": [
    {
     "data": {
      "text/plain": [
       "'Celiaki       Celiaki innebär att du inte tål proteinet gluten som finns i vete, råg och korn. Din tunntarm blir inflammerad och kan inte ta upp näring som den ska. De vanligaste symtomen är magbesvär, trötthet och att gå ner i vikt. Behandlingen går ut på att sluta äta gluten. Det gör att tarmen läker och symtomen går över inom några månader. Celiaki kallas också för glutenintolerans. Det går att få celiaki som barn eller som vuxen. Den här texten handlar om celiaki hos vuxna. Här kan du läsa mer om celiaki hos barn.   Du kan få ett eller flera av följande symtom om du har obehandlad celiaki: Vilka symtom man får och hur kraftiga de är kan skilja sig från person till person. Symtomen kan också ändras med åldern.         Det är vanligt att ha besvär från magen och tarmarna vid obehandlad celiaki. Det kan till exempel vara diarré som inte går över, gaser i magen och ibland förstoppning . Att ha besvär från magen och tarmarna behöver inte bero på celiaki. Ibland kan det vara symtom på så kallad känslig tarm, som också kallas IBS. Blod i avföringen är inte ett tecken på celiaki. Har du blod i avföringen ska du söka vård och bli undersökt eftersom det kan vara symtom på någon annan tarmsjukdom.         Du kan känna dig trött och kraftlös i kroppen, till exempel när du anstränger dig eller tränar. Du kan också känna en allmän uppgivenhet som kan påminna om depression . Orsaken är för det mesta blodbrist och vitaminbrist. Du kan till exempel ha blodbrist på grund av järnbrist eller blodbrist på grund av brist på vitaminerna B12 och folsyra. diarré, ont i magen och andra magbesvär trötthet och nedstämdhet viktnedgång ledvärk utslag i munnen, så kallad afte kräkningar och illamående blåsor på huden svårt att få till en graviditet.    !  \"#    Tröttheten kan också bero på inflammationen som uppstår i tarmen. \"$   Du kan gå ner i vikt, men det är ovanligt att gå ner mycket i vikt och bli mager. Du kan också kräkas ibland. Att gå ner i vikt beror på den tarmskada som orsakas av gluten, men kan även bero på att du kanske mår illa och inte har någon aptit.   Vid celiaki kan du också få ont i skelettet, främst då i lederna . Celiaki kan dessutom ibland göra att du får benskörhet , det vill säga att skelettet blir skörare. Benskörhet brukar inte ge några symtom. Risken att du bryter ett ben på grund av benskörheten är liten. Skelettet stärks igen när du börjar äta glutenfri mat. %    Du kan ha haft perioder med utslag i munnen och att det svider på tungan. Att det svider på tungan kan bero på brist på vitamin B12. Utslag och sår i munnen kallas också för afte eller aftösa sår. & \\'  Det finns en hudsjukdom som kallas hudceliaki. Vid hudceliaki får du hudblåsor som kliar på armbågarna, underarmarna och på skinkorna. Du behöver inte ha tydliga besvär från magen och tarmarna om du har hudceliaki. Även här är behandlingen glutenfri kost. Det finns en rekommendation att avstå från jod, eftersom det har visat sig att besvären då kan minska för en del. Men fortfarande saknas vetenskaplig grund för att jod försämrar besvären. Hudceliaki brukar förkortas till DH, efter det latinska namnet dermatitis herpetiformis.         Vid obehandlad glutenintolerans kan du ha svårt att få till en graviditet, så kallad infertilitet . När du börjar äta glutenfri mat påverkar celiakin inte längre din förmåga att bli gravid. ( #   ) Kontakta en vårdcentral om du tror att du har celiaki. Många mottagningar kan du kontakta genom att logga in . Ring telefonnummer 1177 om du vill ha sjukvårdsrådgivning. Då får du hjälp med att bedöma dina symtom eller hjälp med var du kan söka vård. \"   \\'\\' ) Vid obehandlad celiaki skadas tarmluddet i tarmen. Celiaki innebär att ditt immunförsvar reagerar mot proteinet gluten som finns i vete, råg och korn. $     När du äter gluten reagerar kroppens immunförsvar mot det gluten som kommer till tunntarmen . Reaktionen gör att slemhinnan i tunntarmen blir inflammerad och att tarmluddet så småningom försvinner. Tarmluddet finns på insidan av tarmen och tar upp näring från maten. När tarmluddet försvinner blir det allt svårare för kroppen att ta upp och behålla näringsämnen som finns i maten. Ju större mängder gluten som du får i dig, desto mer skadas tarmen. Du kan också få laktosintolerans . Laktosintoleransen beror på att tarmen tar upp laktos sämre när tarmluddet förstörs. Du kan då få diarré och gaser i magen när du dricker mjölk. Känsligheten för laktos försvinner när du äter glutenfri mat.     Även om tunntarmen skadats av gluten behöver du inte få några uppenbara besvär av det. Ibland kan det verka som att celiakin har gått över. Men så är det inte, utan celiaki är något man har hela livet.      #      Det är större risk att du har celiaki om du samtidigt har en annan sjukdom där immunförsvaret reagerar mot den egna vävnaden, en så kallad autoimmun sjukdom . Exempel på sådana sjukdomar är följande: Det är också vanligare att ha celiaki vid Downs syndrom och Turners syndrom.  \\'   Celiaki är inte en allergi och ska inte blandas ihop med spannmålsallergi. Spannmålsallergi förekommer hos barn och försvinner oftast när barnet blir äldre. Därför är spannmålsallergi ovanligt hos vuxna. Spannmålsallergi innebär att en person är allergisk mot ett eller flera sädesslag, det vill säga vete, korn, havre, råg och rågvete, majs, ris eller hirs. Hen reagerar ofta direkt vid kontakt med det allergiframkallande ämnet. Exempel på reaktion är att personen kan få svullna läppar, bli täppt i nästan och få en svullnad i halsen om hen har fått ämnet i munnen.           Många upplever att de blir dåliga av att äta gluten trots att de inte har någon skada på tunntarmens slemhinna som vid celiaki. Det beror sannolikt på en reaktion mot ett annat ämne i spannmål än just gluten. Forskning pågår för att ta reda på exakt vilket ämne det är. Behandlingen är densamma som vid celiaki, det vill säga att äta glutenfri mat. %         Du behöver fortsätta att äta mat med gluten ända fram till provtagningen. Det syns annars inte i provsvaren om du har celiaki. Det gör att det tar längre tid att få rätt diagnos och behandling. Det här gäller både inför blodprov och om du behöver lämna vävnadsprov från tarmen, så kallad tunntarmsbiopsi.    \\'  På vårdcentralen får du lämna blodprov . Vid celiaki bildas vanligen en viss typ av antikroppar i blodet. Visar blodprovet att du har dessa antikroppar är det troligt att du har celiaki. \"  \\'       \\' Läkaren kan behöva ett vävnadsprov från tunntarmen för att säkert kunna ställa diagnosen celiaki. Vävnadsprovet tas vid en undersökning som kallas gastroskopi . Proverna undersöks sedan i mikroskop för att se om tarmluddet är skadat. Skadat tarmludd är det säkraste tecknet på celiaki. *       diabetes typ 1 sköldkörtelsjukdomar, både hypertyreos och hypotyreos autoimmuna leversjukdomar reumatiska sjukdomar.Det tar ungefär en vecka att få svar på blodproverna. Provsvaren från en tunntarmsbiopsi brukar ta ungefär en månad. &  Livsmedelsprodukter som har symbolen Det överkorsade axet är glutenfria och godkända av Svenska Celiakiförbundet. När du har fått diagnosen celiaki består behandlingen av att enbart äta mat som är helt fri från gluten. Celiaki går inte över, utan du behöver äta glutenfri mat resten av livet. När du börjar äta glutenfri mat läker tarmen. Det tar vanligtvis några månader. Ofta minskar symtomen redan innan tarmen har läkt. Du kan läsa mer om vad du kan äta och inte äta i artikeln Mat och matlagning vid celiaki . *          Du får oftast träffa en dietist när du har fått diagnosen. En dietist är en person som är specialiserad på kost. Dietisten går igenom vilken mat du kan äta och vad du ska undvika. Det är viktigt att du får bra information tidigt i behandlingen. Ju mer du vet om celiaki och vad du får äta, desto lättare blir det att undvika gluten och laga god glutenfri mat. Dietisten ger dig också råd på hur du kan få i dig fibrer, mineraler och vitaminer. Det kan annars vara svårt att få i sig tillräckligt av dessa näringsämnen. +       Tarmens slemhinna skadas även av små mängder gluten om du äter det regelbundet. Det är därför viktigt att all mat som du äter är helt fri från gluten. Det är inte skadligt att råka få i sig gluten vid något enstaka tillfälle. Det är inte ens säkert att du får några symtom då. Om symtom skulle uppstå går dessa oftast över av sig själv inom några dagar. Men om du får i dig gluten regelbundet kommer dina gamla symtom så småningom tillbaka. Du kan dessutom få nya symtom och risken för benskörhet ökar. Det kan även bli svårt att få till en graviditet. ,   När du har fått diagnosen kommer du att följas upp vid ett återbesök. Då pratar du och läkaren om hur du mår och hur det går att äta glutenfri kost. Läkaren kommer också att undersöka dig och du får lämna blodprov. Du kan också träffa dietisten vid återbesöket om du behöver det. Oftast sker återbesöken på vårdcentralen. Men du kan även ha återbesök på ett sjukhus sex till tolv månader efter att du har fått din diagnos. \"  \\') Det är inte helt klarlagt varför en del får celiaki, men forskarna tror att ärftlighet är en viktig orsak. Det är också oklart vad det är som gör att immunförsvaret angriper det gluten som kommer till tunntarmen. Förutom gluten riktas även immunreaktionen mot det kroppsegna ämnet transglutaminas, som bryter ner gluten. Eftersom immunreaktionen riktas mot kroppens egna system ingår celiaki i gruppen autoimmuna sjukdomar. -   Många som har fått diagnosen celiaki tycker att det är skönt att få reda på vad besvären beror på och att det finns behandling. Samtidigt kan det vara jobbigt att inse att man behöver äta glutenfri mat resten av livet.Senast uppdaterad : 2024-05-15 Redaktör : Peter Tuominen, 1177.se, nationella redaktionen Granskare : Klas Sjöberg, läkare, specialist på internmedicin och på sjukdomar i magen och tarmarna, Skånes universitetssjukhus, Malmö Illustratör : Kari Toverud, certifierad medicinsk illustratör &        Berätta för närstående och vänner att du har celiaki och tala även om vad du kan äta och vad du ska undvika.  \\'           Att börja laga och äta mat utan gluten kan innebära en omställning. Men efter en tid blir det en naturlig del av vardagen. Det finns många glutenfria produkter att köpa och ofta kan kaféer och restauranger ordna glutenfri mat. På bufféer brukar det ofta vara utskrivet vilken mat som är glutenfri. Du kan hitta recept på glutenfri mat i särskilda kokböcker, på webbplatser och på bloggar. Där kan du också få inspiration till att laga glutenfri mat. .      Kontakta Svenska Celiakiförbundet om du vill ha mer information om celiaki eller komma i kontakt med vuxna som har celiaki. Svenska Celiakiförbundet har också mindre föreningar på många platser i Sverige . /      Du kan söka vård på vilken vårdcentral eller öppen specialistmottagning du vill i hela landet. Ibland krävs det remiss till den öppna specialiserade vården.         För att kunna vara delaktig i vården och behandlingen är det viktigt att du förstår informationen du får av vårdpersonalen. Fråga vårdpersonalen om du inte förstår. Du har möjlighet att få hjälp av en tolk om du inte pratar svenska . Du har också möjlighet att få hjälp av en tolk om du har en hörselnedsättning . 0011\\'\\' På 1177.se får du råd om hälsa och information om sjukdomar och vilka mottagningar du kan kontakta. Logga in för att läsa din journal och göra dina vårdärenden. Ring telefonnummer 1177 för sjukvårdsrådgivning dygnet runt. 1177 ger dig råd när du vill må bättre. 0011        20011 .  Inställningar för kakor 1177 – en tjänst från Inera. Behandling av personuppgifter Hantering av kakor'"
      ]
     },
     "execution_count": 33,
     "metadata": {},
     "output_type": "execute_result"
    }
   ],
   "source": [
    "pdf_text = clean_text(text)\n",
    "pdf_text"
   ]
  },
  {
   "cell_type": "code",
   "execution_count": 6,
   "metadata": {},
   "outputs": [],
   "source": [
    "# not used\n",
    "import re\n",
    "def split_text(text: str):\n",
    "    \"\"\"\n",
    "    Splits a text string into a list of non-empty substrings based on the specified pattern.\n",
    "    The \"\\n \\n\" pattern will split the document para by para\n",
    "    Parameters:\n",
    "    - text (str): The input text to be split.\n",
    "\n",
    "    Returns:\n",
    "    - List[str]: A list containing non-empty substrings obtained by splitting the input text.\n",
    "\n",
    "    \"\"\"\n",
    "    split_text = re.split('\\n \\n', text)\n",
    "    return [i for i in split_text if i != \"\"]"
   ]
  },
  {
   "cell_type": "code",
   "execution_count": 7,
   "metadata": {},
   "outputs": [],
   "source": [
    "#text = split_text(pdf_text)"
   ]
  },
  {
   "cell_type": "markdown",
   "metadata": {},
   "source": [
    "# Embedding the text"
   ]
  },
  {
   "cell_type": "code",
   "execution_count": 8,
   "metadata": {},
   "outputs": [
    {
     "name": "stderr",
     "output_type": "stream",
     "text": [
      "c:\\Users\\Ellaa\\miniconda3\\Lib\\site-packages\\tqdm\\auto.py:21: TqdmWarning: IProgress not found. Please update jupyter and ipywidgets. See https://ipywidgets.readthedocs.io/en/stable/user_install.html\n",
      "  from .autonotebook import tqdm as notebook_tqdm\n"
     ]
    }
   ],
   "source": [
    "import google.generativeai as genai\n",
    "from chromadb import Documents, EmbeddingFunction, Embeddings\n",
    "import os\n",
    "\n",
    "class GeminiEmbeddingFunction(EmbeddingFunction):\n",
    "    \"\"\"\n",
    "    Custom embedding function using the Gemini AI API for document retrieval.\n",
    "\n",
    "    This class extends the EmbeddingFunction class and implements the __call__ method\n",
    "    to generate embeddings for a given set of documents using the Gemini AI API.\n",
    "\n",
    "    Parameters:\n",
    "    - input (Documents): A collection of documents to be embedded.\n",
    "\n",
    "    Returns:\n",
    "    - Embeddings: Embeddings generated for the input documents.\n",
    "\n",
    "    Raises:\n",
    "    - ValueError: If the Gemini API Key is not provided as an environment variable (GEMINI_API_KEY).\n",
    "\n",
    "    Example:\n",
    "    >>> gemini_embedding_function = GeminiEmbeddingFunction()\n",
    "    >>> input_documents = Documents([\"Document 1\", \"Document 2\", \"Document 3\"])\n",
    "    >>> embeddings_result = gemini_embedding_function(input_documents)\n",
    "    >>> print(embeddings_result)\n",
    "    Embeddings for the input documents generated by the Gemini AI API.\n",
    "    \"\"\"\n",
    "    def __call__(self, input: Documents) -> Embeddings:\n",
    "        gemini_api_key = os.getenv(\"GEMINI_API_KEY\")\n",
    "        if not gemini_api_key:\n",
    "            raise ValueError(\"Gemini API Key not provided. Please provide GEMINI_API_KEY as an environment variable\")\n",
    "        genai.configure(api_key=gemini_api_key)\n",
    "        model = \"models/embedding-001\"\n",
    "        title = \"Custom query\"\n",
    "        return genai.embed_content(model=model,\n",
    "                                   content=input,\n",
    "                                   task_type=\"retrieval_document\",\n",
    "                                   title=title)[\"embedding\"]\n"
   ]
  },
  {
   "cell_type": "markdown",
   "metadata": {},
   "source": [
    "# Storing vectors into DB"
   ]
  },
  {
   "cell_type": "code",
   "execution_count": 9,
   "metadata": {},
   "outputs": [],
   "source": [
    "import chromadb\n",
    "def create_chroma_db(documents, path, name):\n",
    "    \"\"\"\n",
    "    Creates a Chroma database using the provided documents, path, and collection name.\n",
    "\n",
    "    Parameters:\n",
    "    - documents: An iterable of documents to be added to the Chroma database.\n",
    "    - path (str): The path where the Chroma database will be stored.\n",
    "    - name (str): The name of the collection within the Chroma database.\n",
    "\n",
    "    Returns:\n",
    "    - Tuple[chromadb.Collection, str]: A tuple containing the created Chroma Collection and its name.\n",
    "    \"\"\"\n",
    "    chroma_client = chromadb.PersistentClient(path=path)\n",
    "    db = chroma_client.create_collection(name=name, embedding_function=GeminiEmbeddingFunction())\n",
    "\n",
    "    for i, d in enumerate(documents):\n",
    "        db.add(documents=d, ids=str(i))\n",
    "\n",
    "    return db, name\n"
   ]
  },
  {
   "cell_type": "code",
   "execution_count": 10,
   "metadata": {},
   "outputs": [],
   "source": [
    "# delete old \"contents\"\n",
    "#import shutil\n",
    "#shutil.rmtree(\"contents\")"
   ]
  },
  {
   "cell_type": "code",
   "execution_count": 11,
   "metadata": {},
   "outputs": [
    {
     "ename": "UniqueConstraintError",
     "evalue": "Collection rag_experiment already exists",
     "output_type": "error",
     "traceback": [
      "\u001b[1;31m---------------------------------------------------------------------------\u001b[0m",
      "\u001b[1;31mUniqueConstraintError\u001b[0m                     Traceback (most recent call last)",
      "Cell \u001b[1;32mIn[11], line 1\u001b[0m\n\u001b[1;32m----> 1\u001b[0m db,name \u001b[38;5;241m=\u001b[39m\u001b[43mcreate_chroma_db\u001b[49m\u001b[43m(\u001b[49m\u001b[43mdocuments\u001b[49m\u001b[38;5;241;43m=\u001b[39;49m\u001b[43mtext\u001b[49m\u001b[43m,\u001b[49m\u001b[43m \u001b[49m\u001b[43mpath\u001b[49m\u001b[38;5;241;43m=\u001b[39;49m\u001b[38;5;124;43m\"\u001b[39;49m\u001b[38;5;124;43mcontents\u001b[39;49m\u001b[38;5;124;43m\"\u001b[39;49m\u001b[43m,\u001b[49m\u001b[43m \u001b[49m\u001b[43mname\u001b[49m\u001b[38;5;241;43m=\u001b[39;49m\u001b[38;5;124;43m\"\u001b[39;49m\u001b[38;5;124;43mrag_experiment\u001b[39;49m\u001b[38;5;124;43m\"\u001b[39;49m\u001b[43m)\u001b[49m\n",
      "Cell \u001b[1;32mIn[9], line 15\u001b[0m, in \u001b[0;36mcreate_chroma_db\u001b[1;34m(documents, path, name)\u001b[0m\n\u001b[0;32m      3\u001b[0m \u001b[38;5;250m\u001b[39m\u001b[38;5;124;03m\"\"\"\u001b[39;00m\n\u001b[0;32m      4\u001b[0m \u001b[38;5;124;03mCreates a Chroma database using the provided documents, path, and collection name.\u001b[39;00m\n\u001b[0;32m      5\u001b[0m \n\u001b[1;32m   (...)\u001b[0m\n\u001b[0;32m     12\u001b[0m \u001b[38;5;124;03m- Tuple[chromadb.Collection, str]: A tuple containing the created Chroma Collection and its name.\u001b[39;00m\n\u001b[0;32m     13\u001b[0m \u001b[38;5;124;03m\"\"\"\u001b[39;00m\n\u001b[0;32m     14\u001b[0m chroma_client \u001b[38;5;241m=\u001b[39m chromadb\u001b[38;5;241m.\u001b[39mPersistentClient(path\u001b[38;5;241m=\u001b[39mpath)\n\u001b[1;32m---> 15\u001b[0m db \u001b[38;5;241m=\u001b[39m \u001b[43mchroma_client\u001b[49m\u001b[38;5;241;43m.\u001b[39;49m\u001b[43mcreate_collection\u001b[49m\u001b[43m(\u001b[49m\u001b[43mname\u001b[49m\u001b[38;5;241;43m=\u001b[39;49m\u001b[43mname\u001b[49m\u001b[43m,\u001b[49m\u001b[43m \u001b[49m\u001b[43membedding_function\u001b[49m\u001b[38;5;241;43m=\u001b[39;49m\u001b[43mGeminiEmbeddingFunction\u001b[49m\u001b[43m(\u001b[49m\u001b[43m)\u001b[49m\u001b[43m)\u001b[49m\n\u001b[0;32m     17\u001b[0m \u001b[38;5;28;01mfor\u001b[39;00m i, d \u001b[38;5;129;01min\u001b[39;00m \u001b[38;5;28menumerate\u001b[39m(documents):\n\u001b[0;32m     18\u001b[0m     db\u001b[38;5;241m.\u001b[39madd(documents\u001b[38;5;241m=\u001b[39md, ids\u001b[38;5;241m=\u001b[39m\u001b[38;5;28mstr\u001b[39m(i))\n",
      "File \u001b[1;32mc:\\Users\\Ellaa\\miniconda3\\Lib\\site-packages\\chromadb\\api\\client.py:117\u001b[0m, in \u001b[0;36mClient.create_collection\u001b[1;34m(self, name, configuration, metadata, embedding_function, data_loader, get_or_create)\u001b[0m\n\u001b[0;32m    105\u001b[0m \u001b[38;5;129m@override\u001b[39m\n\u001b[0;32m    106\u001b[0m \u001b[38;5;28;01mdef\u001b[39;00m \u001b[38;5;21mcreate_collection\u001b[39m(\n\u001b[0;32m    107\u001b[0m     \u001b[38;5;28mself\u001b[39m,\n\u001b[1;32m   (...)\u001b[0m\n\u001b[0;32m    115\u001b[0m     get_or_create: \u001b[38;5;28mbool\u001b[39m \u001b[38;5;241m=\u001b[39m \u001b[38;5;28;01mFalse\u001b[39;00m,\n\u001b[0;32m    116\u001b[0m ) \u001b[38;5;241m-\u001b[39m\u001b[38;5;241m>\u001b[39m Collection:\n\u001b[1;32m--> 117\u001b[0m     model \u001b[38;5;241m=\u001b[39m \u001b[38;5;28;43mself\u001b[39;49m\u001b[38;5;241;43m.\u001b[39;49m\u001b[43m_server\u001b[49m\u001b[38;5;241;43m.\u001b[39;49m\u001b[43mcreate_collection\u001b[49m\u001b[43m(\u001b[49m\n\u001b[0;32m    118\u001b[0m \u001b[43m        \u001b[49m\u001b[43mname\u001b[49m\u001b[38;5;241;43m=\u001b[39;49m\u001b[43mname\u001b[49m\u001b[43m,\u001b[49m\n\u001b[0;32m    119\u001b[0m \u001b[43m        \u001b[49m\u001b[43mmetadata\u001b[49m\u001b[38;5;241;43m=\u001b[39;49m\u001b[43mmetadata\u001b[49m\u001b[43m,\u001b[49m\n\u001b[0;32m    120\u001b[0m \u001b[43m        \u001b[49m\u001b[43mtenant\u001b[49m\u001b[38;5;241;43m=\u001b[39;49m\u001b[38;5;28;43mself\u001b[39;49m\u001b[38;5;241;43m.\u001b[39;49m\u001b[43mtenant\u001b[49m\u001b[43m,\u001b[49m\n\u001b[0;32m    121\u001b[0m \u001b[43m        \u001b[49m\u001b[43mdatabase\u001b[49m\u001b[38;5;241;43m=\u001b[39;49m\u001b[38;5;28;43mself\u001b[39;49m\u001b[38;5;241;43m.\u001b[39;49m\u001b[43mdatabase\u001b[49m\u001b[43m,\u001b[49m\n\u001b[0;32m    122\u001b[0m \u001b[43m        \u001b[49m\u001b[43mget_or_create\u001b[49m\u001b[38;5;241;43m=\u001b[39;49m\u001b[43mget_or_create\u001b[49m\u001b[43m,\u001b[49m\n\u001b[0;32m    123\u001b[0m \u001b[43m        \u001b[49m\u001b[43mconfiguration\u001b[49m\u001b[38;5;241;43m=\u001b[39;49m\u001b[43mconfiguration\u001b[49m\u001b[43m,\u001b[49m\n\u001b[0;32m    124\u001b[0m \u001b[43m    \u001b[49m\u001b[43m)\u001b[49m\n\u001b[0;32m    125\u001b[0m     \u001b[38;5;28;01mreturn\u001b[39;00m Collection(\n\u001b[0;32m    126\u001b[0m         client\u001b[38;5;241m=\u001b[39m\u001b[38;5;28mself\u001b[39m\u001b[38;5;241m.\u001b[39m_server,\n\u001b[0;32m    127\u001b[0m         model\u001b[38;5;241m=\u001b[39mmodel,\n\u001b[0;32m    128\u001b[0m         embedding_function\u001b[38;5;241m=\u001b[39membedding_function,\n\u001b[0;32m    129\u001b[0m         data_loader\u001b[38;5;241m=\u001b[39mdata_loader,\n\u001b[0;32m    130\u001b[0m     )\n",
      "File \u001b[1;32mc:\\Users\\Ellaa\\miniconda3\\Lib\\site-packages\\chromadb\\telemetry\\opentelemetry\\__init__.py:146\u001b[0m, in \u001b[0;36mtrace_method.<locals>.decorator.<locals>.wrapper\u001b[1;34m(*args, **kwargs)\u001b[0m\n\u001b[0;32m    144\u001b[0m \u001b[38;5;28;01mglobal\u001b[39;00m tracer, granularity\n\u001b[0;32m    145\u001b[0m \u001b[38;5;28;01mif\u001b[39;00m trace_granularity \u001b[38;5;241m<\u001b[39m granularity:\n\u001b[1;32m--> 146\u001b[0m     \u001b[38;5;28;01mreturn\u001b[39;00m \u001b[43mf\u001b[49m\u001b[43m(\u001b[49m\u001b[38;5;241;43m*\u001b[39;49m\u001b[43margs\u001b[49m\u001b[43m,\u001b[49m\u001b[43m \u001b[49m\u001b[38;5;241;43m*\u001b[39;49m\u001b[38;5;241;43m*\u001b[39;49m\u001b[43mkwargs\u001b[49m\u001b[43m)\u001b[49m\n\u001b[0;32m    147\u001b[0m \u001b[38;5;28;01mif\u001b[39;00m \u001b[38;5;129;01mnot\u001b[39;00m tracer:\n\u001b[0;32m    148\u001b[0m     \u001b[38;5;28;01mreturn\u001b[39;00m f(\u001b[38;5;241m*\u001b[39margs, \u001b[38;5;241m*\u001b[39m\u001b[38;5;241m*\u001b[39mkwargs)\n",
      "File \u001b[1;32mc:\\Users\\Ellaa\\miniconda3\\Lib\\site-packages\\chromadb\\api\\segment.py:178\u001b[0m, in \u001b[0;36mSegmentAPI.create_collection\u001b[1;34m(self, name, configuration, metadata, get_or_create, tenant, database)\u001b[0m\n\u001b[0;32m    166\u001b[0m model \u001b[38;5;241m=\u001b[39m CollectionModel(\n\u001b[0;32m    167\u001b[0m     \u001b[38;5;28mid\u001b[39m\u001b[38;5;241m=\u001b[39m\u001b[38;5;28mid\u001b[39m,\n\u001b[0;32m    168\u001b[0m     name\u001b[38;5;241m=\u001b[39mname,\n\u001b[1;32m   (...)\u001b[0m\n\u001b[0;32m    175\u001b[0m     dimension\u001b[38;5;241m=\u001b[39m\u001b[38;5;28;01mNone\u001b[39;00m,\n\u001b[0;32m    176\u001b[0m )\n\u001b[0;32m    177\u001b[0m \u001b[38;5;66;03m# TODO: Let sysdb create the collection directly from the model\u001b[39;00m\n\u001b[1;32m--> 178\u001b[0m coll, created \u001b[38;5;241m=\u001b[39m \u001b[38;5;28;43mself\u001b[39;49m\u001b[38;5;241;43m.\u001b[39;49m\u001b[43m_sysdb\u001b[49m\u001b[38;5;241;43m.\u001b[39;49m\u001b[43mcreate_collection\u001b[49m\u001b[43m(\u001b[49m\n\u001b[0;32m    179\u001b[0m \u001b[43m    \u001b[49m\u001b[38;5;28;43mid\u001b[39;49m\u001b[38;5;241;43m=\u001b[39;49m\u001b[43mmodel\u001b[49m\u001b[38;5;241;43m.\u001b[39;49m\u001b[43mid\u001b[49m\u001b[43m,\u001b[49m\n\u001b[0;32m    180\u001b[0m \u001b[43m    \u001b[49m\u001b[43mname\u001b[49m\u001b[38;5;241;43m=\u001b[39;49m\u001b[43mmodel\u001b[49m\u001b[38;5;241;43m.\u001b[39;49m\u001b[43mname\u001b[49m\u001b[43m,\u001b[49m\n\u001b[0;32m    181\u001b[0m \u001b[43m    \u001b[49m\u001b[43mconfiguration\u001b[49m\u001b[38;5;241;43m=\u001b[39;49m\u001b[43mmodel\u001b[49m\u001b[38;5;241;43m.\u001b[39;49m\u001b[43mget_configuration\u001b[49m\u001b[43m(\u001b[49m\u001b[43m)\u001b[49m\u001b[43m,\u001b[49m\n\u001b[0;32m    182\u001b[0m \u001b[43m    \u001b[49m\u001b[43mmetadata\u001b[49m\u001b[38;5;241;43m=\u001b[39;49m\u001b[43mmodel\u001b[49m\u001b[38;5;241;43m.\u001b[39;49m\u001b[43mmetadata\u001b[49m\u001b[43m,\u001b[49m\n\u001b[0;32m    183\u001b[0m \u001b[43m    \u001b[49m\u001b[43mdimension\u001b[49m\u001b[38;5;241;43m=\u001b[39;49m\u001b[38;5;28;43;01mNone\u001b[39;49;00m\u001b[43m,\u001b[49m\u001b[43m  \u001b[49m\u001b[38;5;66;43;03m# This is lazily populated on the first add\u001b[39;49;00m\n\u001b[0;32m    184\u001b[0m \u001b[43m    \u001b[49m\u001b[43mget_or_create\u001b[49m\u001b[38;5;241;43m=\u001b[39;49m\u001b[43mget_or_create\u001b[49m\u001b[43m,\u001b[49m\n\u001b[0;32m    185\u001b[0m \u001b[43m    \u001b[49m\u001b[43mtenant\u001b[49m\u001b[38;5;241;43m=\u001b[39;49m\u001b[43mtenant\u001b[49m\u001b[43m,\u001b[49m\n\u001b[0;32m    186\u001b[0m \u001b[43m    \u001b[49m\u001b[43mdatabase\u001b[49m\u001b[38;5;241;43m=\u001b[39;49m\u001b[43mdatabase\u001b[49m\u001b[43m,\u001b[49m\n\u001b[0;32m    187\u001b[0m \u001b[43m\u001b[49m\u001b[43m)\u001b[49m\n\u001b[0;32m    189\u001b[0m \u001b[38;5;66;03m# TODO: wrap sysdb call in try except and log error if it fails\u001b[39;00m\n\u001b[0;32m    190\u001b[0m \u001b[38;5;28;01mif\u001b[39;00m created:\n",
      "File \u001b[1;32mc:\\Users\\Ellaa\\miniconda3\\Lib\\site-packages\\chromadb\\telemetry\\opentelemetry\\__init__.py:146\u001b[0m, in \u001b[0;36mtrace_method.<locals>.decorator.<locals>.wrapper\u001b[1;34m(*args, **kwargs)\u001b[0m\n\u001b[0;32m    144\u001b[0m \u001b[38;5;28;01mglobal\u001b[39;00m tracer, granularity\n\u001b[0;32m    145\u001b[0m \u001b[38;5;28;01mif\u001b[39;00m trace_granularity \u001b[38;5;241m<\u001b[39m granularity:\n\u001b[1;32m--> 146\u001b[0m     \u001b[38;5;28;01mreturn\u001b[39;00m \u001b[43mf\u001b[49m\u001b[43m(\u001b[49m\u001b[38;5;241;43m*\u001b[39;49m\u001b[43margs\u001b[49m\u001b[43m,\u001b[49m\u001b[43m \u001b[49m\u001b[38;5;241;43m*\u001b[39;49m\u001b[38;5;241;43m*\u001b[39;49m\u001b[43mkwargs\u001b[49m\u001b[43m)\u001b[49m\n\u001b[0;32m    147\u001b[0m \u001b[38;5;28;01mif\u001b[39;00m \u001b[38;5;129;01mnot\u001b[39;00m tracer:\n\u001b[0;32m    148\u001b[0m     \u001b[38;5;28;01mreturn\u001b[39;00m f(\u001b[38;5;241m*\u001b[39margs, \u001b[38;5;241m*\u001b[39m\u001b[38;5;241m*\u001b[39mkwargs)\n",
      "File \u001b[1;32mc:\\Users\\Ellaa\\miniconda3\\Lib\\site-packages\\chromadb\\db\\mixins\\sysdb.py:227\u001b[0m, in \u001b[0;36mSqlSysDB.create_collection\u001b[1;34m(self, id, name, configuration, metadata, dimension, get_or_create, tenant, database)\u001b[0m\n\u001b[0;32m    220\u001b[0m         \u001b[38;5;28;01mreturn\u001b[39;00m (\n\u001b[0;32m    221\u001b[0m             \u001b[38;5;28mself\u001b[39m\u001b[38;5;241m.\u001b[39mget_collections(\n\u001b[0;32m    222\u001b[0m                 \u001b[38;5;28mid\u001b[39m\u001b[38;5;241m=\u001b[39mcollection\u001b[38;5;241m.\u001b[39mid, tenant\u001b[38;5;241m=\u001b[39mtenant, database\u001b[38;5;241m=\u001b[39mdatabase\n\u001b[0;32m    223\u001b[0m             )[\u001b[38;5;241m0\u001b[39m],\n\u001b[0;32m    224\u001b[0m             \u001b[38;5;28;01mFalse\u001b[39;00m,\n\u001b[0;32m    225\u001b[0m         )\n\u001b[0;32m    226\u001b[0m     \u001b[38;5;28;01melse\u001b[39;00m:\n\u001b[1;32m--> 227\u001b[0m         \u001b[38;5;28;01mraise\u001b[39;00m UniqueConstraintError(\u001b[38;5;124mf\u001b[39m\u001b[38;5;124m\"\u001b[39m\u001b[38;5;124mCollection \u001b[39m\u001b[38;5;132;01m{\u001b[39;00mname\u001b[38;5;132;01m}\u001b[39;00m\u001b[38;5;124m already exists\u001b[39m\u001b[38;5;124m\"\u001b[39m)\n\u001b[0;32m    229\u001b[0m collection \u001b[38;5;241m=\u001b[39m Collection(\n\u001b[0;32m    230\u001b[0m     \u001b[38;5;28mid\u001b[39m\u001b[38;5;241m=\u001b[39m\u001b[38;5;28mid\u001b[39m,\n\u001b[0;32m    231\u001b[0m     name\u001b[38;5;241m=\u001b[39mname,\n\u001b[1;32m   (...)\u001b[0m\n\u001b[0;32m    237\u001b[0m     version\u001b[38;5;241m=\u001b[39m\u001b[38;5;241m0\u001b[39m,\n\u001b[0;32m    238\u001b[0m )\n\u001b[0;32m    240\u001b[0m \u001b[38;5;28;01mwith\u001b[39;00m \u001b[38;5;28mself\u001b[39m\u001b[38;5;241m.\u001b[39mtx() \u001b[38;5;28;01mas\u001b[39;00m cur:\n",
      "\u001b[1;31mUniqueConstraintError\u001b[0m: Collection rag_experiment already exists"
     ]
    }
   ],
   "source": [
    "db,name =create_chroma_db(documents=text, path=\"contents\", name=\"rag_experiment\")"
   ]
  },
  {
   "cell_type": "code",
   "execution_count": 12,
   "metadata": {},
   "outputs": [],
   "source": [
    "def load_chroma_collection(path, name):\n",
    "    \"\"\"\n",
    "    Loads an existing Chroma collection from the specified path with the given name.\n",
    "\n",
    "    Parameters:\n",
    "    - path (str): The path where the Chroma database is stored.\n",
    "    - name (str): The name of the collection within the Chroma database.\n",
    "\n",
    "    Returns:\n",
    "    - chromadb.Collection: The loaded Chroma Collection.\n",
    "    \"\"\"\n",
    "    chroma_client = chromadb.PersistentClient(path=path)\n",
    "    db = chroma_client.get_collection(name=name, embedding_function=GeminiEmbeddingFunction())\n",
    "\n",
    "    return db\n"
   ]
  },
  {
   "cell_type": "code",
   "execution_count": 13,
   "metadata": {},
   "outputs": [],
   "source": [
    "db=path=load_chroma_collection(\"contents\", name=\"rag_experiment\")"
   ]
  },
  {
   "cell_type": "markdown",
   "metadata": {},
   "source": [
    "# Retrieval"
   ]
  },
  {
   "cell_type": "code",
   "execution_count": 14,
   "metadata": {},
   "outputs": [],
   "source": [
    "def get_relevant_passage(query, db, n_results):\n",
    "  passage = db.query(query_texts=[query], n_results=n_results)['documents'][0]\n",
    "  return passage"
   ]
  },
  {
   "cell_type": "code",
   "execution_count": 15,
   "metadata": {},
   "outputs": [
    {
     "data": {
      "text/plain": [
       "[' ', ' ', ' ']"
      ]
     },
     "execution_count": 15,
     "metadata": {},
     "output_type": "execute_result"
    }
   ],
   "source": [
    "relevant_text = get_relevant_passage(\"anpassa träningen\",db,3)\n",
    "relevant_text"
   ]
  },
  {
   "cell_type": "markdown",
   "metadata": {},
   "source": [
    "# Generation"
   ]
  },
  {
   "cell_type": "code",
   "execution_count": 16,
   "metadata": {},
   "outputs": [],
   "source": [
    "def make_rag_prompt(query, relevant_passage):\n",
    "  escaped = relevant_passage.replace(\"'\", \"\").replace('\"', \"\").replace(\"\\n\", \" \")\n",
    "  prompt = (\"\"\"You are a helpful and informative bot that answers questions using text from the reference passage included below. \\\n",
    "  Be sure to respond in a complete sentence, being comprehensive, including all relevant background information. \\\n",
    "  However, you are talking to a non-technical audience, so be sure to break down complicated concepts and \\\n",
    "  strike a friendly and converstional tone. \\\n",
    "  If the passage is irrelevant to the answer, you may ignore it.\n",
    "  QUESTION: '{query}'\n",
    "  PASSAGE: '{relevant_passage}'\n",
    "\n",
    "  ANSWER:\n",
    "  \"\"\").format(query=query, relevant_passage=escaped)\n",
    "\n",
    "  return prompt"
   ]
  },
  {
   "cell_type": "code",
   "execution_count": 17,
   "metadata": {},
   "outputs": [],
   "source": [
    "import google.generativeai as genai\n",
    "def generate_response(prompt):\n",
    "    gemini_api_key = os.getenv(\"GEMINI_API_KEY\")\n",
    "    if not gemini_api_key:\n",
    "        raise ValueError(\"Gemini API Key not provided. Please provide GEMINI_API_KEY as an environment variable\")\n",
    "    genai.configure(api_key=gemini_api_key)\n",
    "    model = genai.GenerativeModel('gemini-pro')\n",
    "    answer = model.generate_content(prompt)\n",
    "    return answer.text"
   ]
  },
  {
   "cell_type": "markdown",
   "metadata": {},
   "source": [
    "# Bringing it all together"
   ]
  },
  {
   "cell_type": "code",
   "execution_count": 18,
   "metadata": {},
   "outputs": [],
   "source": [
    "\n",
    "def generate_answer(db,query):\n",
    "    #retrieve top 3 relevant text chunks\n",
    "    relevant_text = get_relevant_passage(query,db,n_results=3)\n",
    "    prompt = make_rag_prompt(query, \n",
    "                             relevant_passage=\"\".join(relevant_text)) # joining the relevant chunks to create a single passage\n",
    "    answer = generate_response(prompt)\n",
    "\n",
    "    return answer\n",
    "    \n",
    "    \n",
    "    "
   ]
  },
  {
   "cell_type": "code",
   "execution_count": 19,
   "metadata": {},
   "outputs": [
    {
     "name": "stdout",
     "output_type": "stream",
     "text": [
      "I'm afraid I can't answer that question because the reference passage does not have any information on how to customize training.\n"
     ]
    }
   ],
   "source": [
    "db=load_chroma_collection(path=\"contents\", #replace with path of your persistent directory\n",
    "                          name=\"rag_experiment\") #replace with the collection name\n",
    "\n",
    "answer = generate_answer(db,query=\"Hur kan man anpassa träningen?\")\n",
    "print(answer)\n"
   ]
  },
  {
   "cell_type": "code",
   "execution_count": null,
   "metadata": {},
   "outputs": [],
   "source": []
  }
 ],
 "metadata": {
  "kernelspec": {
   "display_name": "base",
   "language": "python",
   "name": "python3"
  },
  "language_info": {
   "codemirror_mode": {
    "name": "ipython",
    "version": 3
   },
   "file_extension": ".py",
   "mimetype": "text/x-python",
   "name": "python",
   "nbconvert_exporter": "python",
   "pygments_lexer": "ipython3",
   "version": "3.12.3"
  }
 },
 "nbformat": 4,
 "nbformat_minor": 2
}
