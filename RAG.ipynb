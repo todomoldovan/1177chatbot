{
 "cells": [
  {
   "cell_type": "markdown",
   "metadata": {},
   "source": [
    "# Loading PDF file"
   ]
  },
  {
   "cell_type": "code",
   "execution_count": 1,
   "metadata": {},
   "outputs": [],
   "source": [
    "import os\n",
    "import unstructured\n",
    "os.environ[\"GEMINI_API_KEY\"]=\"notmykey\""
   ]
  },
  {
   "cell_type": "code",
   "execution_count": 2,
   "metadata": {},
   "outputs": [
    {
     "name": "stderr",
     "output_type": "stream",
     "text": [
      "/Users/theodoramoldovan/anaconda3/lib/python3.10/site-packages/pypdf/_crypt_providers/_cryptography.py:32: CryptographyDeprecationWarning: ARC4 has been moved to cryptography.hazmat.decrepit.ciphers.algorithms.ARC4 and will be removed from this module in 48.0.0.\n",
      "  from cryptography.hazmat.primitives.ciphers.algorithms import AES, ARC4\n"
     ]
    }
   ],
   "source": [
    "from pypdf import PdfReader\n",
    "\n",
    "def load_pdf(file_path):\n",
    "    \"\"\"\n",
    "    Reads the text content from a PDF file and returns it as a single string.\n",
    "\n",
    "    Parameters:\n",
    "    - file_path (str): The file path to the PDF file.\n",
    "\n",
    "    Returns:\n",
    "    - str: The concatenated text content of all pages in the PDF.\n",
    "\n",
    "    Raises:\n",
    "    - FileNotFoundError: If the specified file_path does not exist.\n",
    "    - PyPDF2.utils.PdfReadError: If the PDF file is encrypted or malformed.\n",
    "\n",
    "    Example:\n",
    "    >>> pdf_text = load_pdf(\"example.pdf\")\n",
    "    >>> print(pdf_text)\n",
    "    \"This is the text content extracted from the PDF file.\"\n",
    "    \"\"\"\n",
    "    # Logic to read pdf\n",
    "    reader = PdfReader(file_path)\n",
    "\n",
    "    # Loop over each page and store it in a variable\n",
    "    text = \"\"\n",
    "    for page in reader.pages:\n",
    "        text += page.extract_text()\n",
    "\n",
    "    return text\n",
    "\n",
    "text = load_pdf(file_path=\"child_page_8.pdf\")"
   ]
  },
  {
   "cell_type": "code",
   "execution_count": 3,
   "metadata": {},
   "outputs": [],
   "source": [
    "pdf_text = load_pdf(file_path=\"child_page_8.pdf\")"
   ]
  },
  {
   "cell_type": "markdown",
   "metadata": {},
   "source": [
    "# Splitting the text"
   ]
  },
  {
   "cell_type": "code",
   "execution_count": 4,
   "metadata": {},
   "outputs": [],
   "source": [
    "import re\n",
    "def split_text(text: str):\n",
    "    \"\"\"\n",
    "    Splits a text string into a list of non-empty substrings based on the specified pattern.\n",
    "    The \"\\n \\n\" pattern will split the document para by para\n",
    "    Parameters:\n",
    "    - text (str): The input text to be split.\n",
    "\n",
    "    Returns:\n",
    "    - List[str]: A list containing non-empty substrings obtained by splitting the input text.\n",
    "\n",
    "    \"\"\"\n",
    "    split_text = re.split('\\n \\n', text)\n",
    "    return [i for i in split_text if i != \"\"]"
   ]
  },
  {
   "cell_type": "code",
   "execution_count": 5,
   "metadata": {},
   "outputs": [],
   "source": [
    "text = split_text(pdf_text)"
   ]
  },
  {
   "cell_type": "code",
   "execution_count": 6,
   "metadata": {},
   "outputs": [
    {
     "data": {
      "text/plain": [
       "['Att leva med cancer\\nFysisk\\taktivitet\\toch\\tfysioterapi\\tvid\\tcancer\\nDet är vanligt att du rör på dig mindre och vill vila mer om du har cancer och går igenom olika behandlingar.\\nDu kan behöva vila ibland, men du mår ofta bättre av att försöka röra på dig och gärna även träna. Undvik\\nför mycket stillasittande. Då fungerar kroppen bättre och du blir starkare, får bättre balans och mer ork.\\nFysisk aktivitet vid cancer kan ge dig styrka att orka med behandling och kan även hjälpa dig att bli fri från cancern. Att röra på sig är\\ninte skadligt.\\nVideo: \\n//play.mediaflowpro.com/ovp/14/74CCNK7YTF?theme=\\nFysisk aktivitet vid cancer kan ge dig styrka att orka med behandling och kan även hjälpa dig att bli fri från cancern. Att röra på sig är\\ninte skadligt.\\nDu kan oftast fortsätta med mer krävande aktiviteter om du gillar det, men viss anpassning kan behövas. Är du van vid hård träning\\nkan du behöva sänka tempot eller korta ner sträckan för att känna efter vad som är lagom. Kroppen kan reagera annorlunda mot före\\ncancern, både på grund av sjukdomen och av behandlingen.\\nFysisk\\taktivitet\\thjälper\\täven\\tmot\\tcancerrelaterad\\ttrötthet\\nMånga som får cancer beskriver att de känner sig trötta på ett sätt som de inte känner igen sedan tidigare. Det är en trötthet som inte\\ngår att vila bort och som kallas cancerrelaterad fatigue. Fysisk aktivitet är viktig för att motverka den sortens trötthet. Men ibland kan\\ntröttheten till exempel bero på blodbrist eller depression och då kan man behöva behandling mot det.\\nHitta\\ten\\taktivitet\\tsom\\tpassar\\tdig\\nVilken typ av fysisk aktivitet som är bäst för dig beror på vad du tycker om att göra och vad du är van vid sedan tidigare.\\nDet beror också på vilken sjukdom du har och vilken behandling du får. Det går ofta lättare om du börjar med något som\\ndu tycker om.\\nDet kan hända att du under vissa perioder inte har några problem med att orka det du vill. Men ibland kan du behöva börja med enkla\\nrörelser och små utmaningar för att sedan öka träningen efter hand.\\nDu kan prata med din sjuksköterska eller läkare om du har frågor om fysisk aktivitet och träning. Tips och råd som är anpassade till\\ndina förutsättningar kan du få av en fysioterapeut eller sjukgymnast.\\nSätt\\tupp\\trealistiska\\tmål\\nNär du vill börja röra på dig mer är det bra att först sätta upp realistiska mål.\\nÄr du väldigt trött och sitter eller ligger långa tider, kan du behöva bryta ditt stillasittande bara en kort stund. Att röra på dig lite är en\\nbra början. Sedan kan du försöka vara fysiskt aktiv korta stunder flera gånger om dagen. På samma sätt är det bra att öka din aktivitet\\nLogga\\nin\\nHitta\\nvård\\nMeny\\nVälj\\n\\t\\nregionstegvis även om du redan är aktiv. Sätt upp delmål som gör att du känner att du utvecklas.\\nAnpassa\\tträningen\\nDet kan vara svårt att komma igång igen om du har vilat mycket under en period. Om du känner dig tröttare när du rör på dig kan det\\nbero på att konditionen har blivit sämre. Då behöver du hitta en bra balans mellan aktivitet och vila. Börjar du träna för hårt ökar\\nrisken för skador.\\nFysisk aktivitet brukar göra att du mår bättre både direkt efter du varit aktiv och på längre sikt. Det kan underlätta om du skaffar dig\\nrutiner och fasta tider. Kanske kan du hitta någon att träna tillsammans med.\\nUnder cytostatikabehandling är det vanligt att blodvärden påverkas. Hur mycket de påverkas beror bland annat på vilken typ av\\nbehandling du får.\\nDet brukar inte finnas några skäl att undvika ansträngning helt även om du har lågt blodvärde, alltså en låg halt i blodet av\\nhemoglobin som förkortas Hb. Du kan också behöva anpassa din träning om du är mycket infektionskänslig. Känner du dig trött och\\norkar mindre kan du fortsätta vara aktiv, men kanske behöver du sänka intensiteten. Fråga då din läkare, sjuksköterska eller\\nfysioterapeut om vilken träning som passar bäst för dig.\\nDu\\tkan\\talltid\\tkomma\\tigång\\tsenare\\nDet är inte försent att komma igång efteråt om du inte har varit aktiv eller tränat under behandlingstiden. Även då ska du öka\\nträningen stegvis eftersom risken för översträngning och skador blir större om du börjar för hårt.\\nNär\\tbehandlingen\\tär\\tavslutad\\nNär du känner att du orkar mer kan du följa de allmänna råden om fysisk aktivitet.\\nVilken form av träning du väljer spelar inte så stor roll. Det är viktiga är att träningen blir regelbunden, helst några gånger i veckan.\\nFör att din hälsa ska bli bättre räcker det med promenader eller någon annan fysisk aktivitet som är måttligt intensiv. Dessutom\\nrekommenderas även styrketräning två till tre gånger i veckan.\\nVad som är måttlig intensitet varierar från person till person och beror på hur aktiv du är. Det ska kännas något ansträngande och\\npulsen ska öka. För vissa innebär det en långsam promenad, men om du är vältränad behöver du kanske jogga för att det ska vara\\nmåttligt ansträngande. En beskrivning av måttlig intensitet är att du klarar av att prata samtidigt som du är aktiv.\\nEtt rekommenderat mål är att vara fysiskt aktiv under två och en halv timme i veckan fördelat på flera dagar. Det blir lite drygt 20\\nminuter om dagen om du fördelar tiden på alla dagar i veckan. Men kom ihåg att all rörelse räknas och att hälsan blir bättre av\\nrörelsepauser om du sitter stilla mycket.\\nDu kan till exempel passa på att gå några hållplatser om du ska åka buss och ta trapporna i stället för hiss. Det ger även bra fysisk\\nträning att arbeta i trädgården, skotta snö, dammsuga eller cykla regelbundet.\\nStyrketräning kan vara övningar du gör hemma eller på ett gym.\\nPå vissa sjukhus och vårdcentraler finns det grupper som du kan träna med. Det kan vara till hjälp om du känner dig osäker på vad du\\nklarar av.\\nNär\\tska\\tdu\\tundvika\\tansträngande\\tfysisk\\taktivitet?\\nUtsätt inte kroppen för stor ansträngning om du har en pågående infektion.\\nTräning\\tutskrivet\\tpå\\trecept\\nSom hjälp kan du ibland också få \\nfysisk aktivitet på\\n rec\\nept,\\n FaR. \\nDet skrivs ut av en läkare, sjuksköterska eller fysioterapeut. På\\nreceptet står vilken slags aktivitet som är ordinerad, exempelvis konditionsträning eller styrketräning. Det står också om det finns\\nnågot speciellt du bör undvika. Den överenskomna aktiviteten kan till exempel vara stavgång, cykelturer eller styrketräning. Hur det\\nhar gått ska sedan följas upp av den som har skrivit receptet.Aktiviteter som du får på recept finns oftast utanför sjukvården och kostnaderna ingår inte i högkostnadsskyddet för sjukvård. Men\\nen del föreningar och andra som ordnar friskvårdsaktiviteter erbjuder ett lägre pris för deltagare med recept. Vissa arbetsgivare\\nbekostar en del av träningen. Om du har cancer kan det finnas fonder att söka ekonomisk hjälp från för att kunna träna.\\nEn\\tfysioterapeut\\tkan\\tge\\tråd\\toch\\tstöd\\nEn fysioterapeut kan hjälpa dig med att anpassa din träning eller att komma igång med den.\\nBehöver du hjälp med att anpassa din träning eller att komma igång kan du kontakta en fysioterapeut. Så länge du har tätare kontakt\\nmed vården kan du rådgöra med en läkare eller sjuksköterska om vem du ska kontakta. Du kan kontakta en fysioterapeut genom att\\nsjälv ringa och beställa tid. Ibland kan du behöva en remiss från en läkare. Vilken fysioterapi som kräver remiss kan variera beroende\\npå vilken region du bor i.\\nEn fysioterapeut kan du träffa antingen på sjukhuset där du får behandling, på en vårdcentral eller på en privat mottagning. På\\ncancerkliniker finns det ofta fysioterapeuter som har specialkunskaper om cancersjukdomar. Om du vill gå hos en fysioterapeut på en\\nvårdcentral eller privat mottagning är det bra om en sjuksköterska eller läkare på sjukhuset skriver en remiss. Då vet fysioterapeuten\\nom det är något speciellt hen behöver ta hänsyn till på grund av din cancersjukdom.\\nHjälp\\tmot\\tandra\\tbesvär\\nDu kan även få hjälp av en fysioterapeut om du har andra besvär som till exempel följande:\\nRåd\\tmot\\tsmärta\\toch\\tstelhet\\nDet finns läkemedel som kan hjälpa om du har ont på grund av din cancersjukdom eller de behandlingar du får. Men du kan även få\\nråd och hjälp hos en fysioterapeut.\\nStelhet och smärta kan höra ihop. När du försöker röra dig efter en operation eller om du inte rört dig alls på ett tag kan det göra ont.\\nStrålbehandling kan orsaka stelhet, framför allt om en led i kroppen har strålats och det gör ont ibland. Om du känner smärta leder\\ndet lätt till att du rör dig mindre och blir stelare. Smärta kan också ge en ändrad kroppshållning och belastning som gör att du får ont i\\nandra delar av kroppen.\\nÖvningar\\tför\\tstyrka\\toch\\trörlighet\\tkan\\thjälpa\\nDu kan få övningar som tränar styrka och rörlighet att göra enligt ett program. Övningarna hjälper till att stödja skelett och leder.\\nTräning kan också förbättra balansen. Du klarar bättre av den vardagliga belastningen som kroppen utsätts för om du använder dina\\nmuskler och gör övningar.\\nAv samma anledning är det bra att behålla eller öka din rörlighet. Det kan du göra genom övningar då du gör stora eller små rörelser i\\nlederna. Ibland kan du även behöva göra töjningsövningar om muskler eller andra vävnader kring lederna är strama.\\nBesvär med värk och stelhet i lederna är ibland svårast på morgonen och efter att du har suttit stilla. Då kan det vara bra att\\nexempelvis göra töjningsövningar innan dina vanliga vardagsaktiviteter börjar. Det hjälper till att öka blodgenomströmningen och\\nmusklerna blir lite mjukare.\\nOfta kan besvären med morgonstelhet kännas mindre när du väl har kommit igång under dagen och är i rörelse.\\nsmärta och stelhet\\nillamående\\noro\\nsvullnad\\nvärmevallningar\\nandningsbesvär.Du kan även få hjälp mot smärta och stelhet genom att träna avspänning och att öva dig i kroppskännedom. Det kan ske individuellt\\neller i grupp.\\nFörebyggande\\tövningar\\tföre\\tstrålbehandling\\nStelhet efter strålbehandling går till viss del att förebygga genom ett rörelseprogram som du gör redan före eller under perioden för\\nbehandling. Stelhet i den del av kroppen som strålats får du framför allt om du tidigare är opererad på samma ställe och om en led har\\nstrålats. Stelheten kan uppstå någon månad eller ännu senare efter behandlingen och beror på att vävnaden har dragit ihop sig när den\\nhar läkt efter strålningen.\\nRörelseprogrammet kan till exempel hjälpa om du har bröstcancer och axelleden riskerar att bli stel. Det kan också hjälpa om du har\\ncancer i munnen, svalget eller strupen så att käklederna riskerar att bli stela. Det är viktigt att du fortsätter att träna rörligheten\\neftersom vävnaderna kan bli stelare framöver.\\nDu kan kontakta en fysioterapeut om du blir stel i leder ett tag efter att strålbehandlingen är avslutad. Hen kan ge råd och förslag på\\növningar för att förbättra rörligheten.\\nBehandling\\tmed\\ttens\\nTens\\n är en förkortning av transkutan elektrisk nervstimulering. Det innebär att elektroder fästs på huden och kopplas med sladdar till\\nen dosa som ger svaga elektriska impulser. På så sätt aktiveras kroppens eget smärtlindringssystem. Du kan använda tens stora delar\\nav dagen och du sköter behandlingen själv när du har fått hjälp att prova ut den.\\nMassage\\tmjukar\\tupp\\tför\\tstunden\\nMassage kan vara en behaglig behandling som ger en stunds välbefinnande. Musklerna och lederna mjukas upp så att du får bättre\\nblodgenomströmning och blir mindre stel, vilket i sin tur kan göra att du får mindre ont.\\nMassage kan du få hos massörer och ibland av en fysioterapeut i kombination med annan behandling eller träning.\\nGånghjälpmedel\\tkan\\tge\\tavlastning\\nDu kan använda rollator, kryckkäppar eller gåbord för avlastning och smärtlindring om det gör ont när du går. Att sitta eller ligga\\nstilla ökar ofta smärtan, medan rörelse och fysisk aktivitet minskar den.\\nFör att få prova ut gånghjälpmedel behöver du kontakta en fysioterapeut eller en arbetsterapeut.\\nRåd\\tmot\\tillamående\\nIllamående är fortfarande en ganska vanlig biverkning om du exempelvis behandlas med cytostatika. Det finns många bra läkemedel\\nsom motverkar illamående och kräkningar. Du kan ibland känna dig mindre illamående om du gör avspänningsövningar eller rör på\\ndig, till exempel tar en promenad utomhus.\\nVid vissa sorters illamående kan du till exempel pröva akupunktur, eller tensbehandling.\\nRåd\\tmot\\tstickningar\\toch\\tdomningar\\nVissa cytostatikabehandlingar kan ge känselrubbningar, så kallad neuropati.\\nDu kan känna stickningar och domningar, men även smärta och svaghet i musklerna. Ibland kan du även få svullnader. Det är viktigt\\natt du berättar det för din sjuksköterska eller läkare om du har dessa besvär, eftersom du då kan behöva få din behandling ändrad.\\nFysisk aktivitet kan hjälpa mot känselrubbningar. Det kan vara bättre att cykla än att promenera, eller att dela upp promenaden med\\npauser emellan. Eftersom marken kan vara ojämn utomhus är ett alternativ att gå på gångband inomhus. Du kan även behöva träna\\nbalans och rörlighet och göra töjningsövningar.\\nDu kan lindra besvären genom att till exempel pröva stödstrumpor. Du kan även pröva med lätt massage under fotsulorna eller\\nanvända tens på benet ovanför det ställe där din känsel har förändrats.\\nIbland kan du ha nytta av inlägg i skorna eller någon form av gånghjälpmedel för att lättare kunna vara fysiskt aktiv.Senast uppdaterad\\n:\\n2023-03-27\\nRedaktör\\n:\\nSusanna',\n",
       " 'Schultz,',\n",
       " '1177.se, nationella redaktionen\\nGranskare\\n:\\nAnna \\nJohnsson,',\n",
       " 'fysioterapeut,',\n",
       " 'Cancerrehabiliteringsmottagningen, Skånes universitetssjukhus,',\n",
       " 'Lund\\nFotograf\\n:\\nJuliana',\n",
       " 'Wiklund',\n",
       " 'Emmali',\n",
       " 'Anséus,',\n",
       " '1177.se, nationella redaktionen\\nDet går inte att bli av med besvären med hjälp av dessa behandlingar. Men de kan göra att du känner dig bättre och att vardagen\\nkänns lättare.\\nRåd\\tmot\\tsvettningar\\toch\\tvallningar\\nDu kan få besvär med svettningar och vallningar om du får hormonbehandling. Det får du till exempel om du har bröstcancer eller\\nprostatacancer. Genom fysisk aktivitet och att röra på dig kan du må bättre.\\nAvspänningsövningar\\n kan också hjälpa. Det finns olika typer av avspänning som kan passa.\\nAkupunktur kan också lindra vallningar och svettningar. Många som blir hjälpta av akupunktur säger att även sömnen blir mycket\\nbättre. Det kan underlätta vardagslivet och ge bättre livskvalitet.\\nRåd\\tvid\\tandningsproblem\\nAndningsgymnastik kan hjälpa om du har problem med andningen och har mycket slem som du behöver hosta upp. Det är bra att\\nförsöka sitta upp om du ligger i sängen mycket och att röra på dig om du sitter stilla mycket.\\nIbland kan du få en så kallad ventil eller liknande som du andas ut i så att det blir motstånd vid utandningen. Då kan du använda\\nlungorna bättre och det blir också lättare att hosta upp slem. Ibland kan du också få andas in läkemedel genom munnen för att vidga\\nluftvägarna.\\nDet kan vara lättare att andas om du har en rollator att hålla i om du är andfådd och har svårt att få tillräckligt med luft när du går.\\nAndningen kan också underlättas om du lutar armarna mot knäna eller mot ett bord när du sitter eller står.\\nRåd\\tmot\\tlymfödem\\nNär du opereras eller får strålbehandling kan du få \\nlymfödem\\n, det vill säga svullnader i kroppen som beror på att lymfvätska samlats\\ndär. Du kan i vissa fall få lymfödem i armen efter att ha fått behandling mot bröstcancer, men lymfödem kan även utvecklas i andra\\nkroppsdelar.\\nUtöver svullnader kan du få domningar och en känsla av tyngd och spänningar i kroppsdelen. Du kan även känna dig stel och svag,\\nibland även få värk. Det går oftast inte att bli helt frisk från lymfödem, men om besvären upptäcks tidigt och du får behandling kan\\nbesvären minska betydligt.\\nBehandling\\nDen vanligaste behandlingen är så kallad kompression. Det innebär att vävnaderna kring lymfödemet trycks samman med hjälp av\\nkompressionsstrumpor. Som tillägg till kompressionsbehandlingen kan du få manuellt lymfdränage eller behandling med en\\nlymfpulsator. Den här sortens behandlingar får du av fysioterapeuter som har särskild utbildning i lymfterapi.\\nTräning ökar inte risken att få lymfödem. När du styrketränar är det som alltid viktigt att börja med lättare belastning så att kroppen\\nvänjer sig innan du ökar belastningen. Samma råd gäller om du redan har fått lymfödem. Du kan själv välja om du vill ha\\nkompressionsstrumpan på under träningen eller inte, men det är viktigt att ta på den direkt efter.\\nMER\\tPÅ\\t1177.SE\\nFilm: Fysisk aktivitet och träning vid cancer\\n\\x01Läs\\tmer\\tpå\\t1177.se\\nFilmproducent, produktionsår 2024\\n:\\nStudio Kupol\\nPraktiskt\\tstöd\\tvid\\tcancer\\nPraktiskt stöd vid cancer är sådant som gör att du kan fungera i din tillvaro. Exempel är olika hjälpmedel, anpassning av bostaden\\neller färdtjänst.\\nAtt\\tfå\\t\\nhjälpmedel\\nDitt hjälpmedel ska passa dig och dina behov. Här kan du läsa om hur det går till att få olika typer av hjälpmedel genom vården. Du\\nkan också läsa om hur du köper ett hjälpmedel själv.\\nFysioterapi\\tvid\\tbesvär\\ti\\tnacke,\\taxlar\\toch\\trygg\\nDu som har ont i ryggen, axlarna och nacken kan få behandling med fysioterapi. Då kan du få hjälp med dina besvär, ofta med hjälp\\nav rörelse och träning i olika former. Du kan också få hjälp med att förändra dina levnadsvanor.\\n1177\\tpå\\tflera\\tspråk\\nOm\\t1177\\nKontakt\\nPå 1177.se får du råd om hälsa och information om sjukdomar och vilka mottagningar du kan kontakta. Logga in för att läsa din\\njournal och göra dina vårdärenden. Ring telefonnummer 1177 för sjukvårdsrådgivning dygnet runt.\\n1177 ger dig råd när du vill må bättre.\\n1177\\n–\\t\\ntryggt\\tom\\tdin\\thälsa\\toch\\tvård\\nInställningar för kakor\\n1177 – en tjänst från \\nInera.\\nBehandling av personuppgifter\\nHantering av kakor']"
      ]
     },
     "execution_count": 6,
     "metadata": {},
     "output_type": "execute_result"
    }
   ],
   "source": [
    "text"
   ]
  },
  {
   "cell_type": "markdown",
   "metadata": {},
   "source": [
    "# Embedding the text"
   ]
  },
  {
   "cell_type": "code",
   "execution_count": 7,
   "metadata": {},
   "outputs": [],
   "source": [
    "import google.generativeai as genai\n",
    "from chromadb import Documents, EmbeddingFunction, Embeddings\n",
    "import os\n",
    "\n",
    "class GeminiEmbeddingFunction(EmbeddingFunction):\n",
    "    \"\"\"\n",
    "    Custom embedding function using the Gemini AI API for document retrieval.\n",
    "\n",
    "    This class extends the EmbeddingFunction class and implements the __call__ method\n",
    "    to generate embeddings for a given set of documents using the Gemini AI API.\n",
    "\n",
    "    Parameters:\n",
    "    - input (Documents): A collection of documents to be embedded.\n",
    "\n",
    "    Returns:\n",
    "    - Embeddings: Embeddings generated for the input documents.\n",
    "\n",
    "    Raises:\n",
    "    - ValueError: If the Gemini API Key is not provided as an environment variable (GEMINI_API_KEY).\n",
    "\n",
    "    Example:\n",
    "    >>> gemini_embedding_function = GeminiEmbeddingFunction()\n",
    "    >>> input_documents = Documents([\"Document 1\", \"Document 2\", \"Document 3\"])\n",
    "    >>> embeddings_result = gemini_embedding_function(input_documents)\n",
    "    >>> print(embeddings_result)\n",
    "    Embeddings for the input documents generated by the Gemini AI API.\n",
    "    \"\"\"\n",
    "    def __call__(self, input: Documents) -> Embeddings:\n",
    "        gemini_api_key = os.getenv(\"GEMINI_API_KEY\")\n",
    "        if not gemini_api_key:\n",
    "            raise ValueError(\"Gemini API Key not provided. Please provide GEMINI_API_KEY as an environment variable\")\n",
    "        genai.configure(api_key=gemini_api_key)\n",
    "        model = \"models/embedding-001\"\n",
    "        title = \"Custom query\"\n",
    "        return genai.embed_content(model=model,\n",
    "                                   content=input,\n",
    "                                   task_type=\"retrieval_document\",\n",
    "                                   title=title)[\"embedding\"]\n"
   ]
  },
  {
   "cell_type": "markdown",
   "metadata": {},
   "source": [
    "# Storing vectors into DB"
   ]
  },
  {
   "cell_type": "code",
   "execution_count": 8,
   "metadata": {},
   "outputs": [],
   "source": [
    "import chromadb\n",
    "def create_chroma_db(documents, path, name):\n",
    "    \"\"\"\n",
    "    Creates a Chroma database using the provided documents, path, and collection name.\n",
    "\n",
    "    Parameters:\n",
    "    - documents: An iterable of documents to be added to the Chroma database.\n",
    "    - path (str): The path where the Chroma database will be stored.\n",
    "    - name (str): The name of the collection within the Chroma database.\n",
    "\n",
    "    Returns:\n",
    "    - Tuple[chromadb.Collection, str]: A tuple containing the created Chroma Collection and its name.\n",
    "    \"\"\"\n",
    "    chroma_client = chromadb.PersistentClient(path=path)\n",
    "    db = chroma_client.create_collection(name=name, embedding_function=GeminiEmbeddingFunction())\n",
    "\n",
    "    for i, d in enumerate(documents):\n",
    "        db.add(documents=d, ids=str(i))\n",
    "\n",
    "    return db, name\n"
   ]
  },
  {
   "cell_type": "code",
   "execution_count": 9,
   "metadata": {},
   "outputs": [],
   "source": [
    "db,name =create_chroma_db(documents=text, path=\"contents\", name=\"rag_experiment\")"
   ]
  },
  {
   "cell_type": "code",
   "execution_count": 10,
   "metadata": {},
   "outputs": [],
   "source": [
    "def load_chroma_collection(path, name):\n",
    "    \"\"\"\n",
    "    Loads an existing Chroma collection from the specified path with the given name.\n",
    "\n",
    "    Parameters:\n",
    "    - path (str): The path where the Chroma database is stored.\n",
    "    - name (str): The name of the collection within the Chroma database.\n",
    "\n",
    "    Returns:\n",
    "    - chromadb.Collection: The loaded Chroma Collection.\n",
    "    \"\"\"\n",
    "    chroma_client = chromadb.PersistentClient(path=path)\n",
    "    db = chroma_client.get_collection(name=name, embedding_function=GeminiEmbeddingFunction())\n",
    "\n",
    "    return db\n"
   ]
  },
  {
   "cell_type": "code",
   "execution_count": 11,
   "metadata": {},
   "outputs": [],
   "source": [
    "db=path=load_chroma_collection(\"contents\", name=\"rag_experiment\")"
   ]
  },
  {
   "cell_type": "markdown",
   "metadata": {},
   "source": [
    "# Retrieval"
   ]
  },
  {
   "cell_type": "code",
   "execution_count": 12,
   "metadata": {},
   "outputs": [],
   "source": [
    "def get_relevant_passage(query, db, n_results):\n",
    "  passage = db.query(query_texts=[query], n_results=n_results)['documents'][0]\n",
    "  return passage"
   ]
  },
  {
   "cell_type": "code",
   "execution_count": 15,
   "metadata": {},
   "outputs": [],
   "source": [
    "relevant_text = get_relevant_passage(\"Fysisk aktivitet och fysioterapi vid cancer\",db,3)"
   ]
  },
  {
   "cell_type": "code",
   "execution_count": 16,
   "metadata": {},
   "outputs": [
    {
     "data": {
      "text/plain": [
       "['Cancerrehabiliteringsmottagningen, Skånes universitetssjukhus,',\n",
       " 'fysioterapeut,',\n",
       " 'Wiklund']"
      ]
     },
     "execution_count": 16,
     "metadata": {},
     "output_type": "execute_result"
    }
   ],
   "source": [
    "relevant_text"
   ]
  },
  {
   "cell_type": "markdown",
   "metadata": {},
   "source": [
    "# Generation"
   ]
  },
  {
   "cell_type": "code",
   "execution_count": 19,
   "metadata": {},
   "outputs": [],
   "source": [
    "def make_rag_prompt(query, relevant_passage):\n",
    "  escaped = relevant_passage.replace(\"'\", \"\").replace('\"', \"\").replace(\"\\n\", \" \")\n",
    "  prompt = (\"\"\"You are a helpful and informative bot that answers questions using text from the reference passage included below. \\\n",
    "  Be sure to respond in a complete sentence, being comprehensive, including all relevant background information. \\\n",
    "  However, you are talking to a non-technical audience, so be sure to break down complicated concepts and \\\n",
    "  strike a friendly and converstional tone. \\\n",
    "  If the passage is irrelevant to the answer, you may ignore it.\n",
    "  QUESTION: '{query}'\n",
    "  PASSAGE: '{relevant_passage}'\n",
    "\n",
    "  ANSWER:\n",
    "  \"\"\").format(query=query, relevant_passage=escaped)\n",
    "\n",
    "  return prompt"
   ]
  },
  {
   "cell_type": "code",
   "execution_count": 20,
   "metadata": {},
   "outputs": [],
   "source": [
    "import google.generativeai as genai\n",
    "def generate_response(prompt):\n",
    "    gemini_api_key = os.getenv(\"GEMINI_API_KEY\")\n",
    "    if not gemini_api_key:\n",
    "        raise ValueError(\"Gemini API Key not provided. Please provide GEMINI_API_KEY as an environment variable\")\n",
    "    genai.configure(api_key=gemini_api_key)\n",
    "    model = genai.GenerativeModel('gemini-pro')\n",
    "    answer = model.generate_content(prompt)\n",
    "    return answer.text"
   ]
  },
  {
   "cell_type": "code",
   "execution_count": null,
   "metadata": {},
   "outputs": [],
   "source": []
  },
  {
   "cell_type": "markdown",
   "metadata": {},
   "source": [
    "# Bringing it all together"
   ]
  },
  {
   "cell_type": "code",
   "execution_count": 21,
   "metadata": {},
   "outputs": [],
   "source": [
    "\n",
    "def generate_answer(db,query):\n",
    "    #retrieve top 3 relevant text chunks\n",
    "    relevant_text = get_relevant_passage(query,db,n_results=3)\n",
    "    prompt = make_rag_prompt(query, \n",
    "                             relevant_passage=\"\".join(relevant_text)) # joining the relevant chunks to create a single passage\n",
    "    answer = generate_response(prompt)\n",
    "\n",
    "    return answer\n",
    "    \n",
    "    \n",
    "    "
   ]
  },
  {
   "cell_type": "code",
   "execution_count": null,
   "metadata": {},
   "outputs": [],
   "source": [
    "db=load_chroma_collection(path=\"C:\\Repos\\RAG\\contents\", #replace with path of your persistent directory\n",
    "                          name=\"rag_experiment\") #replace with the collection name\n",
    "\n",
    "answer = generate_answer(db,query=\"Hur kan man anpassa träningen?\")\n",
    "print(answer)\n"
   ]
  },
  {
   "cell_type": "code",
   "execution_count": null,
   "metadata": {},
   "outputs": [],
   "source": []
  }
 ],
 "metadata": {
  "kernelspec": {
   "display_name": "gemini",
   "language": "python",
   "name": "python3"
  },
  "language_info": {
   "codemirror_mode": {
    "name": "ipython",
    "version": 3
   },
   "file_extension": ".py",
   "mimetype": "text/x-python",
   "name": "python",
   "nbconvert_exporter": "python",
   "pygments_lexer": "ipython3",
   "version": "3.10.13"
  }
 },
 "nbformat": 4,
 "nbformat_minor": 2
}
